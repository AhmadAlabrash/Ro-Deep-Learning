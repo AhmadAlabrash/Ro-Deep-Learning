{
  "nbformat": 4,
  "nbformat_minor": 0,
  "metadata": {
    "colab": {
      "provenance": [],
      "authorship_tag": "ABX9TyPmA14tNcCyZx5LMOA/37iL",
      "include_colab_link": true
    },
    "kernelspec": {
      "name": "python3",
      "display_name": "Python 3"
    },
    "language_info": {
      "name": "python"
    }
  },
  "cells": [
    {
      "cell_type": "markdown",
      "metadata": {
        "id": "view-in-github",
        "colab_type": "text"
      },
      "source": [
        "<a href=\"https://colab.research.google.com/github/AhmadAlabrash/Ro-Deep-Learning/blob/main/RO_DL_tf_Dataset.ipynb\" target=\"_parent\"><img src=\"https://colab.research.google.com/assets/colab-badge.svg\" alt=\"Open In Colab\"/></a>"
      ]
    },
    {
      "cell_type": "code",
      "execution_count": 1,
      "metadata": {
        "id": "PfTt2jIwLJTP"
      },
      "outputs": [],
      "source": [
        "import tensorflow as tf\n",
        "from tensorflow import keras\n",
        "\n",
        "import numpy as np"
      ]
    },
    {
      "cell_type": "code",
      "source": [
        "sales = [21, 22, -108, 31, -1, 32, 34,31]\n",
        "sales = np.array(sales)"
      ],
      "metadata": {
        "id": "ABNWv8oaLLJ0"
      },
      "execution_count": 7,
      "outputs": []
    },
    {
      "cell_type": "code",
      "source": [
        "sales_data = tf.data.Dataset.from_tensor_slices(sales)"
      ],
      "metadata": {
        "id": "kzJtmvWdLSbV"
      },
      "execution_count": 8,
      "outputs": []
    },
    {
      "cell_type": "code",
      "source": [
        "for i in sales_data:\n",
        "  print(i)"
      ],
      "metadata": {
        "colab": {
          "base_uri": "https://localhost:8080/"
        },
        "id": "t2qm8PrGLcH9",
        "outputId": "19eb3851-024d-487f-fb5d-946d7d402297"
      },
      "execution_count": 20,
      "outputs": [
        {
          "output_type": "stream",
          "name": "stdout",
          "text": [
            "tf.Tensor(418, shape=(), dtype=int64)\n",
            "tf.Tensor(608, shape=(), dtype=int64)\n",
            "tf.Tensor(589, shape=(), dtype=int64)\n",
            "tf.Tensor(399, shape=(), dtype=int64)\n",
            "tf.Tensor(589, shape=(), dtype=int64)\n",
            "tf.Tensor(646, shape=(), dtype=int64)\n"
          ]
        }
      ]
    },
    {
      "cell_type": "code",
      "source": [
        "sales_data = sales_data.filter(lambda x : x>0)"
      ],
      "metadata": {
        "id": "47xBM1w5L_ls"
      },
      "execution_count": 15,
      "outputs": []
    },
    {
      "cell_type": "code",
      "source": [
        "sales_data =sales_data.map(lambda x : x*19)"
      ],
      "metadata": {
        "id": "PoL52B5dMcg-"
      },
      "execution_count": 17,
      "outputs": []
    },
    {
      "cell_type": "code",
      "source": [
        "sales_data =sales_data.shuffle(3)"
      ],
      "metadata": {
        "id": "S8kHJ7vyMjX8"
      },
      "execution_count": 19,
      "outputs": []
    },
    {
      "cell_type": "code",
      "source": [
        "sales_data =sales_data.batch(1000)"
      ],
      "metadata": {
        "id": "z0AOab4DMraq"
      },
      "execution_count": 21,
      "outputs": []
    },
    {
      "cell_type": "code",
      "source": [
        "sales_data =sales_data.prefetch(1)"
      ],
      "metadata": {
        "id": "lIlyIFFkMzvu"
      },
      "execution_count": 22,
      "outputs": []
    }
  ]
}