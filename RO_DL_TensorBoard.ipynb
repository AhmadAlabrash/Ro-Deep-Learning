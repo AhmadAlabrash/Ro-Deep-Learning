{
  "nbformat": 4,
  "nbformat_minor": 0,
  "metadata": {
    "colab": {
      "provenance": [],
      "collapsed_sections": [],
      "authorship_tag": "ABX9TyNnM6oSnW+O+XQEVHsOT5ZJ",
      "include_colab_link": true
    },
    "kernelspec": {
      "name": "python3",
      "display_name": "Python 3"
    },
    "language_info": {
      "name": "python"
    }
  },
  "cells": [
    {
      "cell_type": "markdown",
      "metadata": {
        "id": "view-in-github",
        "colab_type": "text"
      },
      "source": [
        "<a href=\"https://colab.research.google.com/github/AhmadAlabrash/Ro-Deep-Learning/blob/main/RO_DL_TensorBoard.ipynb\" target=\"_parent\"><img src=\"https://colab.research.google.com/assets/colab-badge.svg\" alt=\"Open In Colab\"/></a>"
      ]
    },
    {
      "cell_type": "code",
      "source": [
        "!pip install tensorboardcolab"
      ],
      "metadata": {
        "colab": {
          "base_uri": "https://localhost:8080/"
        },
        "id": "-_dSeeopQdhs",
        "outputId": "5727d4b7-0cf9-4f51-c25f-7cc1814aa867"
      },
      "execution_count": 35,
      "outputs": [
        {
          "output_type": "stream",
          "name": "stdout",
          "text": [
            "Looking in indexes: https://pypi.org/simple, https://us-python.pkg.dev/colab-wheels/public/simple/\n",
            "Requirement already satisfied: tensorboardcolab in /usr/local/lib/python3.7/dist-packages (0.0.22)\n"
          ]
        }
      ]
    },
    {
      "cell_type": "code",
      "source": [
        "from tensorboardcolab import TensorBoardColab, TensorBoardColabCallback\n",
        "\n",
        "tbc=TensorBoardColab()"
      ],
      "metadata": {
        "colab": {
          "base_uri": "https://localhost:8080/"
        },
        "id": "B3j6dE21QqEf",
        "outputId": "7c9f9b30-95cf-4424-dcbd-8ef4d4e710b6"
      },
      "execution_count": 36,
      "outputs": [
        {
          "output_type": "stream",
          "name": "stdout",
          "text": [
            "Wait for 8 seconds...\n",
            "TensorBoard link:\n",
            "https://5063-34-69-23-207.ngrok.io\n"
          ]
        }
      ]
    },
    {
      "cell_type": "code",
      "execution_count": 37,
      "metadata": {
        "id": "wc5Qdei7yOfj"
      },
      "outputs": [],
      "source": [
        "import pandas as pd\n",
        "import numpy as np \n",
        "import matplotlib.pyplot as plt\n",
        "%matplotlib inline\n",
        "import seaborn as sns\n",
        "import tensorflow as tf\n",
        "from tensorflow import keras"
      ]
    },
    {
      "cell_type": "code",
      "source": [
        "(X,Y) ,(x,y) =keras.datasets.fashion_mnist.load_data()\n",
        "x.shape"
      ],
      "metadata": {
        "colab": {
          "base_uri": "https://localhost:8080/"
        },
        "id": "RvW6SO24y3EO",
        "outputId": "da1a7eb0-5285-4452-88ab-2f9eef67bf38"
      },
      "execution_count": 38,
      "outputs": [
        {
          "output_type": "execute_result",
          "data": {
            "text/plain": [
              "(10000, 28, 28)"
            ]
          },
          "metadata": {},
          "execution_count": 38
        }
      ]
    },
    {
      "cell_type": "code",
      "source": [
        "np.unique(y)"
      ],
      "metadata": {
        "colab": {
          "base_uri": "https://localhost:8080/"
        },
        "id": "DmxpXLdL0A2q",
        "outputId": "3a76bf8d-b335-48f6-8aa7-9848c25d3694"
      },
      "execution_count": 39,
      "outputs": [
        {
          "output_type": "execute_result",
          "data": {
            "text/plain": [
              "array([0, 1, 2, 3, 4, 5, 6, 7, 8, 9], dtype=uint8)"
            ]
          },
          "metadata": {},
          "execution_count": 39
        }
      ]
    },
    {
      "cell_type": "code",
      "source": [
        "plt.matshow(x[44])"
      ],
      "metadata": {
        "colab": {
          "base_uri": "https://localhost:8080/",
          "height": 292
        },
        "id": "eZMNDXpjzdHN",
        "outputId": "93782f14-bc8d-49f8-be0c-6d74dec012fd"
      },
      "execution_count": 40,
      "outputs": [
        {
          "output_type": "execute_result",
          "data": {
            "text/plain": [
              "<matplotlib.image.AxesImage at 0x7f39128b5850>"
            ]
          },
          "metadata": {},
          "execution_count": 40
        },
        {
          "output_type": "display_data",
          "data": {
            "text/plain": [
              "<Figure size 288x288 with 1 Axes>"
            ],
            "image/png": "[encoded data removed]"
          },
          "metadata": {
            "needs_background": "light"
          }
        }
      ]
    },
    {
      "cell_type": "code",
      "source": [
        "x_flatted = X.reshape(60000,(28*28))\n",
        "x_flatted.shape"
      ],
      "metadata": {
        "colab": {
          "base_uri": "https://localhost:8080/"
        },
        "id": "SDSY1woC1gV_",
        "outputId": "8e259d81-a276-43ae-a453-2da636fa9ed2"
      },
      "execution_count": 41,
      "outputs": [
        {
          "output_type": "execute_result",
          "data": {
            "text/plain": [
              "(60000, 784)"
            ]
          },
          "metadata": {},
          "execution_count": 41
        }
      ]
    },
    {
      "cell_type": "code",
      "source": [
        "x_flatted_scaled =x_flatted /255"
      ],
      "metadata": {
        "id": "8u2EP9hJ64uZ"
      },
      "execution_count": 42,
      "outputs": []
    },
    {
      "cell_type": "code",
      "source": [
        "Y.shape"
      ],
      "metadata": {
        "colab": {
          "base_uri": "https://localhost:8080/"
        },
        "id": "IdNI5Xh_5EUo",
        "outputId": "d4b0280d-6f53-4c7b-ce3e-1798716c1ebe"
      },
      "execution_count": 43,
      "outputs": [
        {
          "output_type": "execute_result",
          "data": {
            "text/plain": [
              "(60000,)"
            ]
          },
          "metadata": {},
          "execution_count": 43
        }
      ]
    },
    {
      "cell_type": "code",
      "source": [
        "tf = keras.callbacks.TensorBoard(log_dir='logs/adam',histogram_freq=1)\n",
        "model =keras.Sequential([ keras.layers.Dense(10,input_shape=(784,),activation='sigmoid'),\n",
        "                      \n",
        "    \n",
        "])\n",
        "model.compile(optimizer='adam',loss='sparse_categorical_crossentropy', metrics=['accuracy'])\n",
        "model.fit(x_flatted_scaled,Y, epochs=10 ,callbacks =[tf])"
      ],
      "metadata": {
        "colab": {
          "base_uri": "https://localhost:8080/"
        },
        "id": "NR9OcLZe0LSZ",
        "outputId": "c66c0930-af62-4f6f-9637-e67b490fd03c"
      },
      "execution_count": 44,
      "outputs": [
        {
          "output_type": "stream",
          "name": "stdout",
          "text": [
            "Epoch 1/10\n",
            "1875/1875 [==============================] - 5s 2ms/step - loss: 0.5984 - accuracy: 0.7982\n",
            "Epoch 2/10\n",
            "1875/1875 [==============================] - 9s 5ms/step - loss: 0.4620 - accuracy: 0.8417\n",
            "Epoch 3/10\n",
            "1875/1875 [==============================] - 8s 4ms/step - loss: 0.4349 - accuracy: 0.8513\n",
            "Epoch 4/10\n",
            "1875/1875 [==============================] - 7s 4ms/step - loss: 0.4229 - accuracy: 0.8540\n",
            "Epoch 5/10\n",
            "1875/1875 [==============================] - 4s 2ms/step - loss: 0.4136 - accuracy: 0.8564\n",
            "Epoch 6/10\n",
            "1875/1875 [==============================] - 4s 2ms/step - loss: 0.4077 - accuracy: 0.8592\n",
            "Epoch 7/10\n",
            "1875/1875 [==============================] - 4s 2ms/step - loss: 0.4037 - accuracy: 0.8596\n",
            "Epoch 8/10\n",
            "1875/1875 [==============================] - 4s 2ms/step - loss: 0.3987 - accuracy: 0.8618\n",
            "Epoch 9/10\n",
            "1875/1875 [==============================] - 4s 2ms/step - loss: 0.3953 - accuracy: 0.8627\n",
            "Epoch 10/10\n",
            "1875/1875 [==============================] - 4s 2ms/step - loss: 0.3919 - accuracy: 0.8643\n"
          ]
        },
        {
          "output_type": "execute_result",
          "data": {
            "text/plain": [
              "<keras.callbacks.History at 0x7f39128a0790>"
            ]
          },
          "metadata": {},
          "execution_count": 44
        }
      ]
    },
    {
      "cell_type": "code",
      "source": [
        "tf2= keras.callbacks.TensorBoard(log_dir ='logs/SGD',histogram_freq=1)\n",
        "model =keras.Sequential([ keras.layers.Dense(10,input_shape=(784,),activation='sigmoid'),\n",
        "                      \n",
        "    \n",
        "])\n",
        "model.compile(optimizer='adam',loss='sparse_categorical_crossentropy', metrics=['accuracy'])\n",
        "model.fit(x_flatted_scaled,Y, epochs=10 ,callbacks=[tf2])"
      ],
      "metadata": {
        "colab": {
          "base_uri": "https://localhost:8080/"
        },
        "id": "1nlN76pLLD0o",
        "outputId": "7fb7023c-59ca-4e33-d7bc-c28a5239d076"
      },
      "execution_count": 45,
      "outputs": [
        {
          "output_type": "stream",
          "name": "stdout",
          "text": [
            "Epoch 1/10\n",
            "1875/1875 [==============================] - 4s 2ms/step - loss: 0.5949 - accuracy: 0.8014\n",
            "Epoch 2/10\n",
            "1875/1875 [==============================] - 4s 2ms/step - loss: 0.4618 - accuracy: 0.8416\n",
            "Epoch 3/10\n",
            "1875/1875 [==============================] - 4s 2ms/step - loss: 0.4359 - accuracy: 0.8500\n",
            "Epoch 4/10\n",
            "1875/1875 [==============================] - 4s 2ms/step - loss: 0.4221 - accuracy: 0.8549\n",
            "Epoch 5/10\n",
            "1875/1875 [==============================] - 4s 2ms/step - loss: 0.4129 - accuracy: 0.8580\n",
            "Epoch 6/10\n",
            "1875/1875 [==============================] - 4s 2ms/step - loss: 0.4068 - accuracy: 0.8592\n",
            "Epoch 7/10\n",
            "1875/1875 [==============================] - 4s 2ms/step - loss: 0.4022 - accuracy: 0.8601\n",
            "Epoch 8/10\n",
            "1875/1875 [==============================] - 5s 3ms/step - loss: 0.3977 - accuracy: 0.8616\n",
            "Epoch 9/10\n",
            "1875/1875 [==============================] - 4s 2ms/step - loss: 0.3947 - accuracy: 0.8629\n",
            "Epoch 10/10\n",
            "1875/1875 [==============================] - 4s 2ms/step - loss: 0.3918 - accuracy: 0.8641\n"
          ]
        },
        {
          "output_type": "execute_result",
          "data": {
            "text/plain": [
              "<keras.callbacks.History at 0x7f3912742b10>"
            ]
          },
          "metadata": {},
          "execution_count": 45
        }
      ]
    },
    {
      "cell_type": "code",
      "source": [
        "xt_flatted = x.reshape(10000,(28*28))\n",
        "xt_flatted.shape"
      ],
      "metadata": {
        "colab": {
          "base_uri": "https://localhost:8080/"
        },
        "id": "5hSUME2759QY",
        "outputId": "bf59be3d-a1a7-42ad-ad87-8eecc3f5b6dc"
      },
      "execution_count": 46,
      "outputs": [
        {
          "output_type": "execute_result",
          "data": {
            "text/plain": [
              "(10000, 784)"
            ]
          },
          "metadata": {},
          "execution_count": 46
        }
      ]
    },
    {
      "cell_type": "code",
      "source": [
        "xt_flatted_scaled = xt_flatted /255"
      ],
      "metadata": {
        "id": "VwiKnPTB7bRi"
      },
      "execution_count": 47,
      "outputs": []
    },
    {
      "cell_type": "code",
      "source": [
        "y.shape"
      ],
      "metadata": {
        "colab": {
          "base_uri": "https://localhost:8080/"
        },
        "id": "pjUCmW6q6QXG",
        "outputId": "05be560a-7068-4844-932a-1e74e185fc6b"
      },
      "execution_count": 48,
      "outputs": [
        {
          "output_type": "execute_result",
          "data": {
            "text/plain": [
              "(10000,)"
            ]
          },
          "metadata": {},
          "execution_count": 48
        }
      ]
    },
    {
      "cell_type": "code",
      "source": [
        "model.evaluate(xt_flatted_scaled,y)"
      ],
      "metadata": {
        "colab": {
          "base_uri": "https://localhost:8080/"
        },
        "id": "K2Brt9IY50k-",
        "outputId": "ca0391e7-8e62-4c8a-9f31-96d434c40c8e"
      },
      "execution_count": 49,
      "outputs": [
        {
          "output_type": "stream",
          "name": "stdout",
          "text": [
            "313/313 [==============================] - 1s 2ms/step - loss: 0.4479 - accuracy: 0.8443\n"
          ]
        },
        {
          "output_type": "execute_result",
          "data": {
            "text/plain": [
              "[0.44794800877571106, 0.8442999720573425]"
            ]
          },
          "metadata": {},
          "execution_count": 49
        }
      ]
    },
    {
      "cell_type": "code",
      "source": [
        "y_predicted = model.predict(xt_flatted_scaled)"
      ],
      "metadata": {
        "colab": {
          "base_uri": "https://localhost:8080/"
        },
        "id": "0kObOuLT7s3J",
        "outputId": "6900d2b2-77cd-417e-95e2-5356761c161c"
      },
      "execution_count": 50,
      "outputs": [
        {
          "output_type": "stream",
          "name": "stdout",
          "text": [
            "313/313 [==============================] - 0s 1ms/step\n"
          ]
        }
      ]
    },
    {
      "cell_type": "code",
      "source": [
        "y_predicted[0]"
      ],
      "metadata": {
        "colab": {
          "base_uri": "https://localhost:8080/"
        },
        "id": "QSq0yE_S72IJ",
        "outputId": "fbb1dd78-ff3e-4595-becf-2fd7f33d78a5"
      },
      "execution_count": 51,
      "outputs": [
        {
          "output_type": "execute_result",
          "data": {
            "text/plain": [
              "array([7.0943142e-04, 2.0590702e-05, 1.3644950e-02, 5.6655090e-03,\n",
              "       4.0570558e-03, 9.9104077e-01, 3.1211445e-02, 9.8523730e-01,\n",
              "       9.0556288e-01, 9.9917799e-01], dtype=float32)"
            ]
          },
          "metadata": {},
          "execution_count": 51
        }
      ]
    },
    {
      "cell_type": "code",
      "source": [
        "np.argmax(y_predicted[0])"
      ],
      "metadata": {
        "colab": {
          "base_uri": "https://localhost:8080/"
        },
        "id": "ej9i8yLL791e",
        "outputId": "dfd91dd6-bfd1-40f6-8714-833cf10e2da3"
      },
      "execution_count": 52,
      "outputs": [
        {
          "output_type": "execute_result",
          "data": {
            "text/plain": [
              "9"
            ]
          },
          "metadata": {},
          "execution_count": 52
        }
      ]
    },
    {
      "cell_type": "code",
      "source": [
        "y[0]"
      ],
      "metadata": {
        "colab": {
          "base_uri": "https://localhost:8080/"
        },
        "id": "yg4ELk2775uX",
        "outputId": "89582655-93e1-4f10-d3ad-d1fa54268926"
      },
      "execution_count": 53,
      "outputs": [
        {
          "output_type": "execute_result",
          "data": {
            "text/plain": [
              "9"
            ]
          },
          "metadata": {},
          "execution_count": 53
        }
      ]
    },
    {
      "cell_type": "code",
      "source": [
        "y_pr=[]\n",
        "for i in range(len(y_predicted)) :\n",
        "   y_pr.append( np.argmax(y_predicted[i]))"
      ],
      "metadata": {
        "id": "BbCihHVX8XM5"
      },
      "execution_count": 54,
      "outputs": []
    },
    {
      "cell_type": "code",
      "source": [
        "y_pr"
      ],
      "metadata": {
        "colab": {
          "base_uri": "https://localhost:8080/"
        },
        "id": "CXwUvwwr9mgx",
        "outputId": "b145b12c-f9d4-489e-a64e-e9e619ddfa8d"
      },
      "execution_count": 55,
      "outputs": [
        {
          "output_type": "execute_result",
          "data": {
            "text/plain": [
              "[9,\n",
              " 2,\n",
              " 1,\n",
              " 1,\n",
              " 6,\n",
              " 1,\n",
              " 4,\n",
              " 6,\n",
              " 5,\n",
              " 7,\n",
              " 4,\n",
              " 5,\n",
              " 5,\n",
              " 3,\n",
              " 4,\n",
              " 1,\n",
              " 2,\n",
              " 2,\n",
              " 8,\n",
              " 0,\n",
              " 2,\n",
              " 5,\n",
              " 7,\n",
              " 9,\n",
              " 1,\n",
              " 2,\n",
              " 6,\n",
              " 0,\n",
              " 9,\n",
              " 3,\n",
              " 8,\n",
              " 8,\n",
              " 3,\n",
              " 3,\n",
              " 8,\n",
              " 0,\n",
              " 7,\n",
              " 5,\n",
              " 7,\n",
              " 9,\n",
              " 0,\n",
              " 1,\n",
              " 0,\n",
              " 7,\n",
              " 6,\n",
              " 7,\n",
              " 2,\n",
              " 1,\n",
              " 2,\n",
              " 6,\n",
              " 6,\n",
              " 2,\n",
              " 5,\n",
              " 8,\n",
              " 2,\n",
              " 2,\n",
              " 8,\n",
              " 2,\n",
              " 8,\n",
              " 0,\n",
              " 7,\n",
              " 7,\n",
              " 8,\n",
              " 5,\n",
              " 1,\n",
              " 1,\n",
              " 0,\n",
              " 4,\n",
              " 7,\n",
              " 8,\n",
              " 7,\n",
              " 0,\n",
              " 6,\n",
              " 6,\n",
              " 2,\n",
              " 3,\n",
              " 1,\n",
              " 2,\n",
              " 8,\n",
              " 4,\n",
              " 1,\n",
              " 8,\n",
              " 5,\n",
              " 9,\n",
              " 5,\n",
              " 0,\n",
              " 3,\n",
              " 2,\n",
              " 0,\n",
              " 6,\n",
              " 5,\n",
              " 3,\n",
              " 6,\n",
              " 7,\n",
              " 1,\n",
              " 8,\n",
              " 0,\n",
              " 1,\n",
              " 6,\n",
              " 2,\n",
              " 3,\n",
              " 6,\n",
              " 7,\n",
              " 6,\n",
              " 7,\n",
              " 8,\n",
              " 5,\n",
              " 9,\n",
              " 9,\n",
              " 4,\n",
              " 2,\n",
              " 5,\n",
              " 7,\n",
              " 0,\n",
              " 5,\n",
              " 2,\n",
              " 8,\n",
              " 2,\n",
              " 7,\n",
              " 8,\n",
              " 0,\n",
              " 0,\n",
              " 9,\n",
              " 9,\n",
              " 3,\n",
              " 0,\n",
              " 8,\n",
              " 2,\n",
              " 1,\n",
              " 5,\n",
              " 4,\n",
              " 1,\n",
              " 9,\n",
              " 1,\n",
              " 8,\n",
              " 6,\n",
              " 2,\n",
              " 1,\n",
              " 2,\n",
              " 5,\n",
              " 1,\n",
              " 0,\n",
              " 0,\n",
              " 0,\n",
              " 1,\n",
              " 6,\n",
              " 1,\n",
              " 3,\n",
              " 2,\n",
              " 2,\n",
              " 6,\n",
              " 2,\n",
              " 1,\n",
              " 3,\n",
              " 5,\n",
              " 0,\n",
              " 4,\n",
              " 7,\n",
              " 9,\n",
              " 3,\n",
              " 7,\n",
              " 2,\n",
              " 3,\n",
              " 9,\n",
              " 0,\n",
              " 9,\n",
              " 4,\n",
              " 7,\n",
              " 4,\n",
              " 2,\n",
              " 0,\n",
              " 5,\n",
              " 2,\n",
              " 1,\n",
              " 2,\n",
              " 1,\n",
              " 3,\n",
              " 0,\n",
              " 9,\n",
              " 1,\n",
              " 0,\n",
              " 9,\n",
              " 3,\n",
              " 8,\n",
              " 7,\n",
              " 9,\n",
              " 9,\n",
              " 4,\n",
              " 4,\n",
              " 7,\n",
              " 1,\n",
              " 2,\n",
              " 1,\n",
              " 6,\n",
              " 3,\n",
              " 2,\n",
              " 8,\n",
              " 3,\n",
              " 6,\n",
              " 1,\n",
              " 1,\n",
              " 0,\n",
              " 2,\n",
              " 9,\n",
              " 2,\n",
              " 4,\n",
              " 0,\n",
              " 7,\n",
              " 9,\n",
              " 8,\n",
              " 4,\n",
              " 1,\n",
              " 8,\n",
              " 4,\n",
              " 1,\n",
              " 3,\n",
              " 1,\n",
              " 6,\n",
              " 7,\n",
              " 2,\n",
              " 8,\n",
              " 5,\n",
              " 3,\n",
              " 0,\n",
              " 7,\n",
              " 7,\n",
              " 6,\n",
              " 6,\n",
              " 7,\n",
              " 0,\n",
              " 7,\n",
              " 8,\n",
              " 9,\n",
              " 2,\n",
              " 9,\n",
              " 0,\n",
              " 5,\n",
              " 1,\n",
              " 4,\n",
              " 2,\n",
              " 5,\n",
              " 4,\n",
              " 9,\n",
              " 6,\n",
              " 2,\n",
              " 8,\n",
              " 6,\n",
              " 2,\n",
              " 6,\n",
              " 4,\n",
              " 9,\n",
              " 7,\n",
              " 6,\n",
              " 5,\n",
              " 5,\n",
              " 2,\n",
              " 8,\n",
              " 5,\n",
              " 2,\n",
              " 3,\n",
              " 0,\n",
              " 4,\n",
              " 8,\n",
              " 0,\n",
              " 0,\n",
              " 6,\n",
              " 3,\n",
              " 8,\n",
              " 9,\n",
              " 6,\n",
              " 1,\n",
              " 6,\n",
              " 0,\n",
              " 4,\n",
              " 3,\n",
              " 0,\n",
              " 8,\n",
              " 3,\n",
              " 7,\n",
              " 2,\n",
              " 0,\n",
              " 1,\n",
              " 2,\n",
              " 3,\n",
              " 0,\n",
              " 6,\n",
              " 6,\n",
              " 7,\n",
              " 5,\n",
              " 3,\n",
              " 5,\n",
              " 9,\n",
              " 5,\n",
              " 6,\n",
              " 5,\n",
              " 5,\n",
              " 1,\n",
              " 9,\n",
              " 8,\n",
              " 3,\n",
              " 3,\n",
              " 3,\n",
              " 6,\n",
              " 8,\n",
              " 0,\n",
              " 0,\n",
              " 2,\n",
              " 9,\n",
              " 5,\n",
              " 7,\n",
              " 1,\n",
              " 6,\n",
              " 2,\n",
              " 6,\n",
              " 2,\n",
              " 4,\n",
              " 7,\n",
              " 1,\n",
              " 6,\n",
              " 4,\n",
              " 8,\n",
              " 2,\n",
              " 6,\n",
              " 5,\n",
              " 6,\n",
              " 2,\n",
              " 7,\n",
              " 7,\n",
              " 7,\n",
              " 3,\n",
              " 3,\n",
              " 7,\n",
              " 3,\n",
              " 7,\n",
              " 1,\n",
              " 3,\n",
              " 7,\n",
              " 2,\n",
              " 2,\n",
              " 3,\n",
              " 4,\n",
              " 0,\n",
              " 3,\n",
              " 1,\n",
              " 0,\n",
              " 1,\n",
              " 9,\n",
              " 4,\n",
              " 9,\n",
              " 9,\n",
              " 1,\n",
              " 7,\n",
              " 8,\n",
              " 3,\n",
              " 6,\n",
              " 0,\n",
              " 2,\n",
              " 4,\n",
              " 8,\n",
              " 6,\n",
              " 1,\n",
              " 2,\n",
              " 2,\n",
              " 4,\n",
              " 4,\n",
              " 7,\n",
              " 3,\n",
              " 4,\n",
              " 2,\n",
              " 5,\n",
              " 0,\n",
              " 7,\n",
              " 9,\n",
              " 4,\n",
              " 0,\n",
              " 9,\n",
              " 3,\n",
              " 9,\n",
              " 3,\n",
              " 2,\n",
              " 5,\n",
              " 6,\n",
              " 0,\n",
              " 3,\n",
              " 5,\n",
              " 8,\n",
              " 1,\n",
              " 6,\n",
              " 2,\n",
              " 2,\n",
              " 6,\n",
              " 4,\n",
              " 9,\n",
              " 5,\n",
              " 2,\n",
              " 0,\n",
              " 6,\n",
              " 6,\n",
              " 1,\n",
              " 2,\n",
              " 0,\n",
              " 9,\n",
              " 7,\n",
              " 0,\n",
              " 4,\n",
              " 4,\n",
              " 0,\n",
              " 6,\n",
              " 2,\n",
              " 3,\n",
              " 0,\n",
              " 6,\n",
              " 7,\n",
              " 2,\n",
              " 9,\n",
              " 4,\n",
              " 2,\n",
              " 1,\n",
              " 5,\n",
              " 4,\n",
              " 5,\n",
              " 3,\n",
              " 8,\n",
              " 5,\n",
              " 8,\n",
              " 4,\n",
              " 4,\n",
              " 8,\n",
              " 9,\n",
              " 8,\n",
              " 6,\n",
              " 2,\n",
              " 4,\n",
              " 4,\n",
              " 2,\n",
              " 4,\n",
              " 1,\n",
              " 6,\n",
              " 1,\n",
              " 3,\n",
              " 0,\n",
              " 7,\n",
              " 8,\n",
              " 8,\n",
              " 6,\n",
              " 5,\n",
              " 3,\n",
              " 1,\n",
              " 9,\n",
              " 5,\n",
              " 3,\n",
              " 3,\n",
              " 0,\n",
              " 1,\n",
              " 2,\n",
              " 2,\n",
              " 9,\n",
              " 4,\n",
              " 0,\n",
              " 6,\n",
              " 0,\n",
              " 2,\n",
              " 2,\n",
              " 0,\n",
              " 0,\n",
              " 0,\n",
              " 3,\n",
              " 8,\n",
              " 2,\n",
              " 8,\n",
              " 9,\n",
              " 2,\n",
              " 0,\n",
              " 7,\n",
              " 0,\n",
              " 4,\n",
              " 6,\n",
              " 9,\n",
              " 2,\n",
              " 9,\n",
              " 5,\n",
              " 9,\n",
              " 3,\n",
              " 7,\n",
              " 5,\n",
              " 9,\n",
              " 8,\n",
              " 1,\n",
              " 0,\n",
              " 0,\n",
              " 6,\n",
              " 4,\n",
              " 8,\n",
              " 9,\n",
              " 7,\n",
              " 9,\n",
              " 1,\n",
              " 2,\n",
              " 7,\n",
              " 0,\n",
              " 2,\n",
              " 0,\n",
              " 5,\n",
              " 7,\n",
              " 1,\n",
              " 8,\n",
              " 2,\n",
              " 2,\n",
              " 2,\n",
              " 2,\n",
              " 2,\n",
              " 2,\n",
              " 0,\n",
              " 1,\n",
              " 9,\n",
              " 8,\n",
              " 5,\n",
              " 1,\n",
              " 9,\n",
              " 1,\n",
              " 2,\n",
              " 8,\n",
              " 3,\n",
              " 8,\n",
              " 9,\n",
              " 2,\n",
              " 6,\n",
              " 6,\n",
              " 8,\n",
              " 6,\n",
              " 2,\n",
              " 0,\n",
              " 5,\n",
              " 8,\n",
              " 8,\n",
              " 5,\n",
              " 3,\n",
              " 9,\n",
              " 4,\n",
              " 3,\n",
              " 4,\n",
              " 2,\n",
              " 5,\n",
              " 1,\n",
              " 3,\n",
              " 1,\n",
              " 2,\n",
              " 0,\n",
              " 6,\n",
              " 9,\n",
              " 6,\n",
              " 1,\n",
              " 5,\n",
              " 1,\n",
              " 1,\n",
              " 1,\n",
              " 9,\n",
              " 3,\n",
              " 4,\n",
              " 5,\n",
              " 3,\n",
              " 6,\n",
              " 2,\n",
              " 0,\n",
              " 4,\n",
              " 0,\n",
              " 0,\n",
              " 5,\n",
              " 8,\n",
              " 0,\n",
              " 6,\n",
              " 4,\n",
              " 0,\n",
              " 7,\n",
              " 7,\n",
              " 8,\n",
              " 9,\n",
              " 3,\n",
              " 6,\n",
              " 8,\n",
              " 7,\n",
              " 6,\n",
              " 7,\n",
              " 9,\n",
              " 3,\n",
              " 4,\n",
              " 0,\n",
              " 6,\n",
              " 5,\n",
              " 8,\n",
              " 1,\n",
              " 1,\n",
              " 5,\n",
              " 9,\n",
              " 3,\n",
              " 2,\n",
              " 5,\n",
              " 7,\n",
              " 8,\n",
              " 1,\n",
              " 2,\n",
              " 9,\n",
              " 7,\n",
              " 7,\n",
              " 1,\n",
              " 0,\n",
              " 9,\n",
              " 3,\n",
              " 2,\n",
              " 9,\n",
              " 0,\n",
              " 7,\n",
              " 6,\n",
              " 8,\n",
              " 2,\n",
              " 7,\n",
              " 3,\n",
              " 2,\n",
              " 3,\n",
              " 8,\n",
              " 2,\n",
              " 2,\n",
              " 8,\n",
              " 9,\n",
              " 3,\n",
              " 0,\n",
              " 7,\n",
              " 8,\n",
              " 8,\n",
              " 2,\n",
              " 9,\n",
              " 4,\n",
              " 6,\n",
              " 6,\n",
              " 6,\n",
              " 1,\n",
              " 0,\n",
              " 4,\n",
              " 4,\n",
              " 2,\n",
              " 7,\n",
              " 5,\n",
              " 8,\n",
              " 4,\n",
              " 9,\n",
              " 1,\n",
              " 0,\n",
              " 5,\n",
              " 4,\n",
              " 4,\n",
              " 4,\n",
              " 0,\n",
              " 0,\n",
              " 4,\n",
              " 5,\n",
              " 6,\n",
              " 0,\n",
              " 4,\n",
              " 5,\n",
              " 4,\n",
              " 1,\n",
              " 8,\n",
              " 1,\n",
              " 3,\n",
              " 2,\n",
              " 2,\n",
              " 3,\n",
              " 8,\n",
              " 2,\n",
              " 8,\n",
              " 6,\n",
              " 5,\n",
              " 0,\n",
              " 4,\n",
              " 0,\n",
              " 8,\n",
              " 5,\n",
              " 0,\n",
              " 8,\n",
              " 2,\n",
              " 9,\n",
              " 0,\n",
              " 8,\n",
              " 9,\n",
              " 6,\n",
              " 3,\n",
              " 2,\n",
              " 9,\n",
              " 4,\n",
              " 2,\n",
              " 5,\n",
              " 0,\n",
              " 9,\n",
              " 5,\n",
              " 3,\n",
              " 6,\n",
              " 6,\n",
              " 6,\n",
              " 3,\n",
              " 3,\n",
              " 8,\n",
              " 3,\n",
              " 2,\n",
              " 0,\n",
              " 9,\n",
              " 7,\n",
              " 9,\n",
              " 4,\n",
              " 8,\n",
              " 9,\n",
              " 1,\n",
              " 3,\n",
              " 7,\n",
              " 3,\n",
              " 0,\n",
              " 2,\n",
              " 6,\n",
              " 7,\n",
              " 1,\n",
              " 0,\n",
              " 0,\n",
              " 8,\n",
              " 7,\n",
              " 2,\n",
              " 6,\n",
              " 4,\n",
              " 6,\n",
              " 4,\n",
              " 1,\n",
              " 5,\n",
              " 9,\n",
              " 0,\n",
              " 0,\n",
              " 1,\n",
              " 6,\n",
              " 5,\n",
              " 0,\n",
              " 0,\n",
              " 3,\n",
              " 3,\n",
              " 3,\n",
              " 8,\n",
              " 1,\n",
              " 1,\n",
              " 8,\n",
              " 5,\n",
              " 7,\n",
              " 7,\n",
              " 8,\n",
              " 7,\n",
              " 2,\n",
              " 0,\n",
              " 7,\n",
              " 0,\n",
              " 8,\n",
              " 0,\n",
              " 9,\n",
              " 7,\n",
              " 6,\n",
              " 1,\n",
              " 6,\n",
              " 6,\n",
              " 4,\n",
              " 8,\n",
              " 0,\n",
              " 6,\n",
              " 3,\n",
              " 6,\n",
              " 8,\n",
              " 4,\n",
              " 0,\n",
              " 8,\n",
              " 9,\n",
              " 2,\n",
              " 4,\n",
              " 5,\n",
              " 9,\n",
              " 1,\n",
              " 4,\n",
              " 4,\n",
              " 9,\n",
              " 2,\n",
              " 1,\n",
              " 7,\n",
              " 9,\n",
              " 5,\n",
              " 8,\n",
              " 3,\n",
              " 7,\n",
              " 7,\n",
              " 1,\n",
              " 1,\n",
              " 1,\n",
              " 6,\n",
              " 9,\n",
              " 5,\n",
              " 3,\n",
              " 8,\n",
              " 4,\n",
              " 2,\n",
              " 9,\n",
              " 2,\n",
              " 8,\n",
              " 3,\n",
              " 2,\n",
              " 2,\n",
              " 4,\n",
              " 7,\n",
              " 1,\n",
              " 4,\n",
              " 9,\n",
              " 3,\n",
              " 5,\n",
              " 8,\n",
              " 5,\n",
              " 4,\n",
              " 7,\n",
              " 2,\n",
              " 8,\n",
              " 5,\n",
              " 9,\n",
              " 3,\n",
              " 3,\n",
              " 2,\n",
              " 7,\n",
              " 1,\n",
              " 7,\n",
              " 3,\n",
              " 5,\n",
              " 4,\n",
              " 4,\n",
              " 5,\n",
              " 8,\n",
              " 3,\n",
              " 7,\n",
              " 1,\n",
              " 2,\n",
              " 6,\n",
              " 1,\n",
              " 9,\n",
              " 8,\n",
              " 2,\n",
              " 7,\n",
              " 1,\n",
              " 4,\n",
              " 7,\n",
              " 5,\n",
              " 9,\n",
              " 9,\n",
              " 1,\n",
              " 8,\n",
              " 4,\n",
              " 7,\n",
              " 7,\n",
              " 1,\n",
              " 9,\n",
              " 8,\n",
              " 1,\n",
              " 3,\n",
              " 0,\n",
              " 6,\n",
              " 1,\n",
              " 7,\n",
              " 1,\n",
              " 1,\n",
              " 5,\n",
              " 7,\n",
              " 1,\n",
              " 5,\n",
              " 2,\n",
              " 6,\n",
              " 3,\n",
              " 3,\n",
              " 1,\n",
              " 1,\n",
              " 4,\n",
              " 9,\n",
              " 4,\n",
              " 3,\n",
              " 7,\n",
              " 7,\n",
              " 8,\n",
              " 8,\n",
              " 9,\n",
              " 9,\n",
              " 6,\n",
              " 1,\n",
              " 3,\n",
              " 8,\n",
              " 0,\n",
              " 3,\n",
              " 5,\n",
              " 9,\n",
              " 2,\n",
              " 0,\n",
              " 5,\n",
              " 5,\n",
              " 1,\n",
              " 5,\n",
              " 7,\n",
              " 8,\n",
              " 7,\n",
              " 7,\n",
              " 3,\n",
              " 6,\n",
              " 2,\n",
              " 0,\n",
              " 4,\n",
              " 0,\n",
              " 2,\n",
              " 0,\n",
              " 2,\n",
              " 5,\n",
              " 5,\n",
              " 1,\n",
              " 2,\n",
              " 0,\n",
              " 9,\n",
              " 3,\n",
              " 7,\n",
              " 8,\n",
              " 6,\n",
              " 8,\n",
              " 3,\n",
              " 6,\n",
              " 5,\n",
              " 6,\n",
              " 7,\n",
              " 4,\n",
              " 8,\n",
              " 6,\n",
              " 3,\n",
              " 4,\n",
              " 4,\n",
              " 3,\n",
              " 6,\n",
              " 9,\n",
              " 0,\n",
              " 2,\n",
              " 4,\n",
              " 9,\n",
              " 1,\n",
              " 8,\n",
              " 1,\n",
              " 7,\n",
              " 9,\n",
              " 7,\n",
              " 6,\n",
              " 0,\n",
              " 2,\n",
              " 1,\n",
              " 0,\n",
              " 5,\n",
              " 6,\n",
              " 0,\n",
              " 0,\n",
              " 2,\n",
              " 7,\n",
              " 5,\n",
              " 0,\n",
              " 3,\n",
              " 5,\n",
              " 9,\n",
              " 6,\n",
              " 8,\n",
              " 6,\n",
              " 0,\n",
              " 4,\n",
              " 0,\n",
              " 2,\n",
              " 9,\n",
              " 0,\n",
              " 7,\n",
              " 7,\n",
              " 1,\n",
              " 4,\n",
              " 4,\n",
              " 0,\n",
              " 5,\n",
              " 0,\n",
              " 9,\n",
              " 9,\n",
              " 8,\n",
              " 8,\n",
              " 3,\n",
              " 0,\n",
              " 2,\n",
              " 2,\n",
              " 6,\n",
              " 6,\n",
              " 3,\n",
              " 2,\n",
              " 3,\n",
              " 7,\n",
              " 2,\n",
              " 9,\n",
              " 3,\n",
              " 4,\n",
              " 7,\n",
              " 7,\n",
              " ...]"
            ]
          },
          "metadata": {},
          "execution_count": 55
        }
      ]
    },
    {
      "cell_type": "code",
      "source": [
        "y == y_pr"
      ],
      "metadata": {
        "colab": {
          "base_uri": "https://localhost:8080/"
        },
        "id": "n5W7AFAl82QA",
        "outputId": "a0484378-98b8-4722-e1b6-5325bdf8f989"
      },
      "execution_count": 56,
      "outputs": [
        {
          "output_type": "execute_result",
          "data": {
            "text/plain": [
              "array([ True,  True,  True, ...,  True,  True,  True])"
            ]
          },
          "metadata": {},
          "execution_count": 56
        }
      ]
    },
    {
      "cell_type": "code",
      "source": [
        "from sklearn.metrics import confusion_matrix\n",
        "cm =confusion_matrix(y,y_pr)\n",
        "plt.figure(figsize=(15,11))\n",
        "sns.heatmap(cm,annot=True)\n"
      ],
      "metadata": {
        "colab": {
          "base_uri": "https://localhost:8080/",
          "height": 663
        },
        "id": "2QfgQq6F8EIq",
        "outputId": "ba94df7d-0032-4cf1-a55e-2d53a78fa1da"
      },
      "execution_count": 57,
      "outputs": [
        {
          "output_type": "execute_result",
          "data": {
            "text/plain": [
              "<matplotlib.axes._subplots.AxesSubplot at 0x7f3912897890>"
            ]
          },
          "metadata": {},
          "execution_count": 57
        },
        {
          "output_type": "display_data",
          "data": {
            "text/plain": [
              "<Figure size 1080x792 with 2 Axes>"
            ],
            "image/png": "[encoded data removed]"
          },
          "metadata": {
            "needs_background": "light"
          }
        }
      ]
    },
    {
      "cell_type": "code",
      "source": [
        "tensorboard --logdir '/logs/adm'"
      ],
      "metadata": {
        "colab": {
          "base_uri": "https://localhost:8080/",
          "height": 130
        },
        "id": "8kVhJkxOOc07",
        "outputId": "918b56ad-01f6-4542-848c-277bada558c1"
      },
      "execution_count": 58,
      "outputs": [
        {
          "output_type": "error",
          "ename": "SyntaxError",
          "evalue": "ignored",
          "traceback": [
            "\u001b[0;36m  File \u001b[0;32m\"<ipython-input-58-eb60d9067736>\"\u001b[0;36m, line \u001b[0;32m1\u001b[0m\n\u001b[0;31m    tensorboard --logdir '/logs/adm'\u001b[0m\n\u001b[0m                                   ^\u001b[0m\n\u001b[0;31mSyntaxError\u001b[0m\u001b[0;31m:\u001b[0m invalid syntax\n"
          ]
        }
      ]
    }
  ]
}