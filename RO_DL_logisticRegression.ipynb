{
  "nbformat": 4,
  "nbformat_minor": 0,
  "metadata": {
    "colab": {
      "provenance": [],
      "collapsed_sections": [],
      "authorship_tag": "ABX9TyNEpmr0u+tmMxcPWC0/GDnB",
      "include_colab_link": true
    },
    "kernelspec": {
      "name": "python3",
      "display_name": "Python 3"
    },
    "language_info": {
      "name": "python"
    }
  },
  "cells": [
    {
      "cell_type": "markdown",
      "metadata": {
        "id": "view-in-github",
        "colab_type": "text"
      },
      "source": [
        "<a href=\"https://colab.research.google.com/github/AhmadAlabrash/Ro-Deep-Learning/blob/main/RO_DL_logisticRegression.ipynb\" target=\"_parent\"><img src=\"https://colab.research.google.com/assets/colab-badge.svg\" alt=\"Open In Colab\"/></a>"
      ]
    },
    {
      "cell_type": "code",
      "execution_count": null,
      "metadata": {
        "id": "wc5Qdei7yOfj"
      },
      "outputs": [],
      "source": [
        "import pandas as pd\n",
        "import numpy as np \n",
        "import matplotlib.pyplot as plt\n",
        "%matplotlib inline\n",
        "import seaborn as sns\n",
        "import tensorflow as tf\n",
        "from tensorflow import keras"
      ]
    },
    {
      "cell_type": "code",
      "source": [
        "(X,Y) ,(x,y) =keras.datasets.fashion_mnist.load_data()\n",
        "x.shape"
      ],
      "metadata": {
        "colab": {
          "base_uri": "https://localhost:8080/"
        },
        "id": "RvW6SO24y3EO",
        "outputId": "65e6147b-8994-45b8-8590-eb4d89c56c51"
      },
      "execution_count": null,
      "outputs": [
        {
          "output_type": "execute_result",
          "data": {
            "text/plain": [
              "(10000, 28, 28)"
            ]
          },
          "metadata": {},
          "execution_count": 144
        }
      ]
    },
    {
      "cell_type": "code",
      "source": [
        "np.unique(y)"
      ],
      "metadata": {
        "colab": {
          "base_uri": "https://localhost:8080/"
        },
        "id": "DmxpXLdL0A2q",
        "outputId": "2e6bfcaf-0f24-4455-cbee-a369059076e0"
      },
      "execution_count": null,
      "outputs": [
        {
          "output_type": "execute_result",
          "data": {
            "text/plain": [
              "array([0, 1, 2, 3, 4, 5, 6, 7, 8, 9], dtype=uint8)"
            ]
          },
          "metadata": {},
          "execution_count": 145
        }
      ]
    },
    {
      "cell_type": "code",
      "source": [
        "plt.matshow(x[44])"
      ],
      "metadata": {
        "colab": {
          "base_uri": "https://localhost:8080/",
          "height": 292
        },
        "id": "eZMNDXpjzdHN",
        "outputId": "ba1663a3-9db8-41c1-b0bb-eb9c30b4171b"
      },
      "execution_count": null,
      "outputs": [
        {
          "output_type": "execute_result",
          "data": {
            "text/plain": [
              "<matplotlib.image.AxesImage at 0x7fcebc960810>"
            ]
          },
          "metadata": {},
          "execution_count": 146
        },
        {
          "output_type": "display_data",
          "data": {
            "text/plain": [
              "<Figure size 288x288 with 1 Axes>"
            ],
            "image/png": "[encoded data removed]"
          },
          "metadata": {
            "needs_background": "light"
          }
        }
      ]
    },
    {
      "cell_type": "code",
      "source": [
        "x_flatted = X.reshape(60000,(28*28))\n",
        "x_flatted.shape"
      ],
      "metadata": {
        "colab": {
          "base_uri": "https://localhost:8080/"
        },
        "id": "SDSY1woC1gV_",
        "outputId": "a3f6c623-b0a7-4678-989e-9f60acc727e0"
      },
      "execution_count": null,
      "outputs": [
        {
          "output_type": "execute_result",
          "data": {
            "text/plain": [
              "(60000, 784)"
            ]
          },
          "metadata": {},
          "execution_count": 147
        }
      ]
    },
    {
      "cell_type": "code",
      "source": [
        "x_flatted_scaled =x_flatted /255"
      ],
      "metadata": {
        "id": "8u2EP9hJ64uZ"
      },
      "execution_count": null,
      "outputs": []
    },
    {
      "cell_type": "code",
      "source": [
        "Y.shape"
      ],
      "metadata": {
        "colab": {
          "base_uri": "https://localhost:8080/"
        },
        "id": "IdNI5Xh_5EUo",
        "outputId": "0de8a529-655a-4ddd-d651-87b4a26904f3"
      },
      "execution_count": null,
      "outputs": [
        {
          "output_type": "execute_result",
          "data": {
            "text/plain": [
              "(60000,)"
            ]
          },
          "metadata": {},
          "execution_count": 149
        }
      ]
    },
    {
      "cell_type": "code",
      "source": [
        "model =keras.Sequential([ keras.layers.Dense(10,input_shape=(784,),activation='sigmoid'),\n",
        "                      \n",
        "    \n",
        "])\n",
        "model.compile(optimizer='adam',loss='sparse_categorical_crossentropy', metrics=['accuracy'])\n",
        "model.fit(x_flatted_scaled,Y, epochs=10)"
      ],
      "metadata": {
        "colab": {
          "base_uri": "https://localhost:8080/"
        },
        "id": "NR9OcLZe0LSZ",
        "outputId": "b7828391-36fb-40e2-cb08-ef14f32cb113"
      },
      "execution_count": null,
      "outputs": [
        {
          "output_type": "stream",
          "name": "stdout",
          "text": [
            "Epoch 1/10\n",
            "1875/1875 [==============================] - 4s 2ms/step - loss: 0.5988 - accuracy: 0.7974\n",
            "Epoch 2/10\n",
            "1875/1875 [==============================] - 5s 3ms/step - loss: 0.4614 - accuracy: 0.8418\n",
            "Epoch 3/10\n",
            "1875/1875 [==============================] - 4s 2ms/step - loss: 0.4343 - accuracy: 0.8499\n",
            "Epoch 4/10\n",
            "1875/1875 [==============================] - 3s 2ms/step - loss: 0.4217 - accuracy: 0.8550\n",
            "Epoch 5/10\n",
            "1875/1875 [==============================] - 3s 2ms/step - loss: 0.4117 - accuracy: 0.8579\n",
            "Epoch 6/10\n",
            "1875/1875 [==============================] - 3s 2ms/step - loss: 0.4072 - accuracy: 0.8594\n",
            "Epoch 7/10\n",
            "1875/1875 [==============================] - 4s 2ms/step - loss: 0.4005 - accuracy: 0.8610\n",
            "Epoch 8/10\n",
            "1875/1875 [==============================] - 4s 2ms/step - loss: 0.3969 - accuracy: 0.8621\n",
            "Epoch 9/10\n",
            "1875/1875 [==============================] - 4s 2ms/step - loss: 0.3959 - accuracy: 0.8625\n",
            "Epoch 10/10\n",
            "1875/1875 [==============================] - 4s 2ms/step - loss: 0.3911 - accuracy: 0.8636\n"
          ]
        },
        {
          "output_type": "execute_result",
          "data": {
            "text/plain": [
              "<keras.callbacks.History at 0x7fcebc921bd0>"
            ]
          },
          "metadata": {},
          "execution_count": 150
        }
      ]
    },
    {
      "cell_type": "code",
      "source": [
        "xt_flatted = x.reshape(10000,(28*28))\n",
        "xt_flatted.shape"
      ],
      "metadata": {
        "colab": {
          "base_uri": "https://localhost:8080/"
        },
        "id": "5hSUME2759QY",
        "outputId": "28c59cd7-4ce9-475a-d8b6-4f8534a87073"
      },
      "execution_count": null,
      "outputs": [
        {
          "output_type": "execute_result",
          "data": {
            "text/plain": [
              "(10000, 784)"
            ]
          },
          "metadata": {},
          "execution_count": 151
        }
      ]
    },
    {
      "cell_type": "code",
      "source": [
        "xt_flatted_scaled = xt_flatted /255"
      ],
      "metadata": {
        "id": "VwiKnPTB7bRi"
      },
      "execution_count": null,
      "outputs": []
    },
    {
      "cell_type": "code",
      "source": [
        "y.shape"
      ],
      "metadata": {
        "colab": {
          "base_uri": "https://localhost:8080/"
        },
        "id": "pjUCmW6q6QXG",
        "outputId": "89ad9371-2ac9-40d5-9207-7cb259abcfd3"
      },
      "execution_count": null,
      "outputs": [
        {
          "output_type": "execute_result",
          "data": {
            "text/plain": [
              "(10000,)"
            ]
          },
          "metadata": {},
          "execution_count": 153
        }
      ]
    },
    {
      "cell_type": "code",
      "source": [
        "model.evaluate(xt_flatted_scaled,y)"
      ],
      "metadata": {
        "colab": {
          "base_uri": "https://localhost:8080/"
        },
        "id": "K2Brt9IY50k-",
        "outputId": "617289d7-b05c-4a40-a2b9-e0db0493f527"
      },
      "execution_count": null,
      "outputs": [
        {
          "output_type": "stream",
          "name": "stdout",
          "text": [
            "313/313 [==============================] - 1s 2ms/step - loss: 0.4611 - accuracy: 0.8378\n"
          ]
        },
        {
          "output_type": "execute_result",
          "data": {
            "text/plain": [
              "[0.46108555793762207, 0.8378000259399414]"
            ]
          },
          "metadata": {},
          "execution_count": 154
        }
      ]
    },
    {
      "cell_type": "code",
      "source": [
        "y_predicted = model.predict(xt_flatted_scaled)"
      ],
      "metadata": {
        "colab": {
          "base_uri": "https://localhost:8080/"
        },
        "id": "0kObOuLT7s3J",
        "outputId": "9804ee25-9ba8-4417-a280-968e4f2ec316"
      },
      "execution_count": null,
      "outputs": [
        {
          "output_type": "stream",
          "name": "stdout",
          "text": [
            "313/313 [==============================] - 0s 1ms/step\n"
          ]
        }
      ]
    },
    {
      "cell_type": "code",
      "source": [
        "y_predicted[0]"
      ],
      "metadata": {
        "colab": {
          "base_uri": "https://localhost:8080/"
        },
        "id": "QSq0yE_S72IJ",
        "outputId": "bf3f12f9-a93d-4ce0-afab-39e0bdf7fb20"
      },
      "execution_count": null,
      "outputs": [
        {
          "output_type": "execute_result",
          "data": {
            "text/plain": [
              "array([5.08875120e-04, 1.32301275e-05, 1.07794721e-02, 4.01310902e-03,\n",
              "       7.14705838e-03, 9.91860032e-01, 4.67569157e-02, 9.70994473e-01,\n",
              "       8.81203353e-01, 9.99031186e-01], dtype=float32)"
            ]
          },
          "metadata": {},
          "execution_count": 156
        }
      ]
    },
    {
      "cell_type": "code",
      "source": [
        "np.argmax(y_predicted[0])"
      ],
      "metadata": {
        "colab": {
          "base_uri": "https://localhost:8080/"
        },
        "id": "ej9i8yLL791e",
        "outputId": "9741b37d-66de-4054-e3a5-48f8ee8ff3b3"
      },
      "execution_count": null,
      "outputs": [
        {
          "output_type": "execute_result",
          "data": {
            "text/plain": [
              "9"
            ]
          },
          "metadata": {},
          "execution_count": 157
        }
      ]
    },
    {
      "cell_type": "code",
      "source": [
        "y[0]"
      ],
      "metadata": {
        "colab": {
          "base_uri": "https://localhost:8080/"
        },
        "id": "yg4ELk2775uX",
        "outputId": "ddf2dcc2-7d0c-4725-cbc2-fa06c9573d72"
      },
      "execution_count": null,
      "outputs": [
        {
          "output_type": "execute_result",
          "data": {
            "text/plain": [
              "9"
            ]
          },
          "metadata": {},
          "execution_count": 158
        }
      ]
    },
    {
      "cell_type": "code",
      "source": [
        "y_pr=[]\n",
        "for i in range(len(y_predicted)) :\n",
        "   y_pr.append( np.argmax(y_predicted[i]))"
      ],
      "metadata": {
        "id": "BbCihHVX8XM5"
      },
      "execution_count": null,
      "outputs": []
    },
    {
      "cell_type": "code",
      "source": [
        "y_pr"
      ],
      "metadata": {
        "colab": {
          "base_uri": "https://localhost:8080/"
        },
        "id": "CXwUvwwr9mgx",
        "outputId": "87d034bb-6fb1-4957-d415-11f50a484f1d"
      },
      "execution_count": null,
      "outputs": [
        {
          "output_type": "execute_result",
          "data": {
            "text/plain": [
              "[9,\n",
              " 2,\n",
              " 1,\n",
              " 1,\n",
              " 6,\n",
              " 1,\n",
              " 4,\n",
              " 6,\n",
              " 5,\n",
              " 7,\n",
              " 4,\n",
              " 5,\n",
              " 5,\n",
              " 3,\n",
              " 4,\n",
              " 1,\n",
              " 2,\n",
              " 2,\n",
              " 8,\n",
              " 0,\n",
              " 2,\n",
              " 5,\n",
              " 7,\n",
              " 7,\n",
              " 1,\n",
              " 2,\n",
              " 6,\n",
              " 3,\n",
              " 9,\n",
              " 3,\n",
              " 8,\n",
              " 8,\n",
              " 3,\n",
              " 3,\n",
              " 8,\n",
              " 0,\n",
              " 7,\n",
              " 5,\n",
              " 7,\n",
              " 9,\n",
              " 0,\n",
              " 1,\n",
              " 4,\n",
              " 7,\n",
              " 6,\n",
              " 7,\n",
              " 2,\n",
              " 1,\n",
              " 2,\n",
              " 6,\n",
              " 4,\n",
              " 2,\n",
              " 5,\n",
              " 8,\n",
              " 2,\n",
              " 2,\n",
              " 8,\n",
              " 4,\n",
              " 8,\n",
              " 0,\n",
              " 7,\n",
              " 7,\n",
              " 8,\n",
              " 5,\n",
              " 1,\n",
              " 1,\n",
              " 0,\n",
              " 4,\n",
              " 7,\n",
              " 8,\n",
              " 7,\n",
              " 0,\n",
              " 2,\n",
              " 6,\n",
              " 2,\n",
              " 3,\n",
              " 1,\n",
              " 2,\n",
              " 8,\n",
              " 4,\n",
              " 1,\n",
              " 8,\n",
              " 5,\n",
              " 9,\n",
              " 5,\n",
              " 0,\n",
              " 3,\n",
              " 2,\n",
              " 0,\n",
              " 2,\n",
              " 5,\n",
              " 3,\n",
              " 6,\n",
              " 7,\n",
              " 1,\n",
              " 8,\n",
              " 0,\n",
              " 1,\n",
              " 4,\n",
              " 2,\n",
              " 3,\n",
              " 4,\n",
              " 7,\n",
              " 2,\n",
              " 7,\n",
              " 8,\n",
              " 5,\n",
              " 7,\n",
              " 9,\n",
              " 4,\n",
              " 2,\n",
              " 5,\n",
              " 7,\n",
              " 0,\n",
              " 5,\n",
              " 2,\n",
              " 8,\n",
              " 4,\n",
              " 7,\n",
              " 8,\n",
              " 0,\n",
              " 0,\n",
              " 9,\n",
              " 9,\n",
              " 3,\n",
              " 0,\n",
              " 8,\n",
              " 4,\n",
              " 1,\n",
              " 5,\n",
              " 4,\n",
              " 1,\n",
              " 9,\n",
              " 1,\n",
              " 8,\n",
              " 4,\n",
              " 2,\n",
              " 1,\n",
              " 2,\n",
              " 5,\n",
              " 1,\n",
              " 0,\n",
              " 0,\n",
              " 0,\n",
              " 1,\n",
              " 6,\n",
              " 1,\n",
              " 3,\n",
              " 2,\n",
              " 2,\n",
              " 6,\n",
              " 2,\n",
              " 1,\n",
              " 3,\n",
              " 5,\n",
              " 2,\n",
              " 4,\n",
              " 7,\n",
              " 9,\n",
              " 3,\n",
              " 7,\n",
              " 2,\n",
              " 3,\n",
              " 9,\n",
              " 0,\n",
              " 9,\n",
              " 4,\n",
              " 7,\n",
              " 4,\n",
              " 2,\n",
              " 6,\n",
              " 5,\n",
              " 2,\n",
              " 1,\n",
              " 2,\n",
              " 1,\n",
              " 3,\n",
              " 0,\n",
              " 9,\n",
              " 1,\n",
              " 0,\n",
              " 9,\n",
              " 3,\n",
              " 8,\n",
              " 7,\n",
              " 9,\n",
              " 9,\n",
              " 4,\n",
              " 4,\n",
              " 7,\n",
              " 1,\n",
              " 2,\n",
              " 1,\n",
              " 2,\n",
              " 3,\n",
              " 2,\n",
              " 8,\n",
              " 3,\n",
              " 6,\n",
              " 1,\n",
              " 1,\n",
              " 0,\n",
              " 2,\n",
              " 9,\n",
              " 2,\n",
              " 4,\n",
              " 0,\n",
              " 7,\n",
              " 9,\n",
              " 8,\n",
              " 4,\n",
              " 1,\n",
              " 8,\n",
              " 4,\n",
              " 1,\n",
              " 3,\n",
              " 1,\n",
              " 6,\n",
              " 7,\n",
              " 4,\n",
              " 8,\n",
              " 5,\n",
              " 3,\n",
              " 0,\n",
              " 7,\n",
              " 7,\n",
              " 6,\n",
              " 2,\n",
              " 7,\n",
              " 0,\n",
              " 7,\n",
              " 8,\n",
              " 9,\n",
              " 2,\n",
              " 9,\n",
              " 0,\n",
              " 5,\n",
              " 1,\n",
              " 4,\n",
              " 2,\n",
              " 5,\n",
              " 4,\n",
              " 9,\n",
              " 2,\n",
              " 2,\n",
              " 8,\n",
              " 6,\n",
              " 4,\n",
              " 2,\n",
              " 4,\n",
              " 9,\n",
              " 7,\n",
              " 4,\n",
              " 5,\n",
              " 5,\n",
              " 4,\n",
              " 8,\n",
              " 5,\n",
              " 2,\n",
              " 3,\n",
              " 0,\n",
              " 4,\n",
              " 8,\n",
              " 0,\n",
              " 0,\n",
              " 6,\n",
              " 3,\n",
              " 8,\n",
              " 9,\n",
              " 6,\n",
              " 1,\n",
              " 6,\n",
              " 0,\n",
              " 4,\n",
              " 3,\n",
              " 0,\n",
              " 8,\n",
              " 3,\n",
              " 7,\n",
              " 4,\n",
              " 0,\n",
              " 1,\n",
              " 2,\n",
              " 3,\n",
              " 0,\n",
              " 4,\n",
              " 2,\n",
              " 7,\n",
              " 5,\n",
              " 3,\n",
              " 5,\n",
              " 9,\n",
              " 5,\n",
              " 6,\n",
              " 5,\n",
              " 5,\n",
              " 1,\n",
              " 9,\n",
              " 8,\n",
              " 3,\n",
              " 3,\n",
              " 3,\n",
              " 2,\n",
              " 8,\n",
              " 0,\n",
              " 0,\n",
              " 2,\n",
              " 9,\n",
              " 7,\n",
              " 7,\n",
              " 1,\n",
              " 6,\n",
              " 2,\n",
              " 6,\n",
              " 2,\n",
              " 4,\n",
              " 7,\n",
              " 1,\n",
              " 6,\n",
              " 4,\n",
              " 8,\n",
              " 2,\n",
              " 6,\n",
              " 5,\n",
              " 6,\n",
              " 2,\n",
              " 7,\n",
              " 7,\n",
              " 7,\n",
              " 3,\n",
              " 3,\n",
              " 7,\n",
              " 3,\n",
              " 7,\n",
              " 1,\n",
              " 3,\n",
              " 7,\n",
              " 2,\n",
              " 2,\n",
              " 3,\n",
              " 4,\n",
              " 0,\n",
              " 3,\n",
              " 1,\n",
              " 0,\n",
              " 1,\n",
              " 9,\n",
              " 4,\n",
              " 9,\n",
              " 9,\n",
              " 1,\n",
              " 7,\n",
              " 8,\n",
              " 3,\n",
              " 6,\n",
              " 0,\n",
              " 2,\n",
              " 4,\n",
              " 8,\n",
              " 6,\n",
              " 1,\n",
              " 2,\n",
              " 2,\n",
              " 4,\n",
              " 4,\n",
              " 7,\n",
              " 3,\n",
              " 4,\n",
              " 2,\n",
              " 5,\n",
              " 0,\n",
              " 7,\n",
              " 9,\n",
              " 4,\n",
              " 0,\n",
              " 9,\n",
              " 3,\n",
              " 9,\n",
              " 4,\n",
              " 2,\n",
              " 5,\n",
              " 6,\n",
              " 0,\n",
              " 3,\n",
              " 5,\n",
              " 8,\n",
              " 1,\n",
              " 6,\n",
              " 2,\n",
              " 2,\n",
              " 6,\n",
              " 4,\n",
              " 9,\n",
              " 5,\n",
              " 2,\n",
              " 0,\n",
              " 6,\n",
              " 6,\n",
              " 1,\n",
              " 2,\n",
              " 0,\n",
              " 9,\n",
              " 7,\n",
              " 0,\n",
              " 4,\n",
              " 4,\n",
              " 2,\n",
              " 6,\n",
              " 2,\n",
              " 3,\n",
              " 0,\n",
              " 6,\n",
              " 7,\n",
              " 2,\n",
              " 9,\n",
              " 4,\n",
              " 2,\n",
              " 1,\n",
              " 5,\n",
              " 4,\n",
              " 5,\n",
              " 3,\n",
              " 8,\n",
              " 5,\n",
              " 8,\n",
              " 4,\n",
              " 4,\n",
              " 8,\n",
              " 9,\n",
              " 8,\n",
              " 6,\n",
              " 2,\n",
              " 4,\n",
              " 4,\n",
              " 2,\n",
              " 4,\n",
              " 1,\n",
              " 6,\n",
              " 1,\n",
              " 3,\n",
              " 0,\n",
              " 7,\n",
              " 8,\n",
              " 8,\n",
              " 4,\n",
              " 5,\n",
              " 3,\n",
              " 1,\n",
              " 9,\n",
              " 5,\n",
              " 3,\n",
              " 3,\n",
              " 0,\n",
              " 1,\n",
              " 2,\n",
              " 2,\n",
              " 9,\n",
              " 4,\n",
              " 0,\n",
              " 6,\n",
              " 1,\n",
              " 4,\n",
              " 2,\n",
              " 0,\n",
              " 0,\n",
              " 4,\n",
              " 3,\n",
              " 8,\n",
              " 2,\n",
              " 8,\n",
              " 9,\n",
              " 4,\n",
              " 0,\n",
              " 7,\n",
              " 2,\n",
              " 4,\n",
              " 6,\n",
              " 9,\n",
              " 2,\n",
              " 9,\n",
              " 7,\n",
              " 9,\n",
              " 3,\n",
              " 7,\n",
              " 5,\n",
              " 7,\n",
              " 8,\n",
              " 1,\n",
              " 0,\n",
              " 0,\n",
              " 2,\n",
              " 4,\n",
              " 8,\n",
              " 9,\n",
              " 7,\n",
              " 9,\n",
              " 1,\n",
              " 2,\n",
              " 7,\n",
              " 0,\n",
              " 2,\n",
              " 0,\n",
              " 5,\n",
              " 7,\n",
              " 1,\n",
              " 8,\n",
              " 1,\n",
              " 2,\n",
              " 2,\n",
              " 2,\n",
              " 4,\n",
              " 4,\n",
              " 2,\n",
              " 1,\n",
              " 9,\n",
              " 8,\n",
              " 5,\n",
              " 1,\n",
              " 9,\n",
              " 1,\n",
              " 2,\n",
              " 8,\n",
              " 3,\n",
              " 8,\n",
              " 9,\n",
              " 2,\n",
              " 6,\n",
              " 6,\n",
              " 8,\n",
              " 6,\n",
              " 2,\n",
              " 1,\n",
              " 5,\n",
              " 8,\n",
              " 8,\n",
              " 5,\n",
              " 3,\n",
              " 9,\n",
              " 4,\n",
              " 3,\n",
              " 4,\n",
              " 2,\n",
              " 5,\n",
              " 1,\n",
              " 3,\n",
              " 1,\n",
              " 4,\n",
              " 0,\n",
              " 4,\n",
              " 9,\n",
              " 6,\n",
              " 1,\n",
              " 5,\n",
              " 1,\n",
              " 1,\n",
              " 1,\n",
              " 9,\n",
              " 3,\n",
              " 4,\n",
              " 5,\n",
              " 3,\n",
              " 6,\n",
              " 2,\n",
              " 0,\n",
              " 4,\n",
              " 0,\n",
              " 0,\n",
              " 5,\n",
              " 8,\n",
              " 2,\n",
              " 6,\n",
              " 4,\n",
              " 0,\n",
              " 7,\n",
              " 7,\n",
              " 8,\n",
              " 9,\n",
              " 3,\n",
              " 6,\n",
              " 8,\n",
              " 7,\n",
              " 6,\n",
              " 7,\n",
              " 9,\n",
              " 3,\n",
              " 4,\n",
              " 0,\n",
              " 4,\n",
              " 5,\n",
              " 8,\n",
              " 1,\n",
              " 1,\n",
              " 5,\n",
              " 9,\n",
              " 4,\n",
              " 2,\n",
              " 5,\n",
              " 7,\n",
              " 8,\n",
              " 1,\n",
              " 2,\n",
              " 9,\n",
              " 7,\n",
              " 7,\n",
              " 1,\n",
              " 0,\n",
              " 9,\n",
              " 3,\n",
              " 2,\n",
              " 9,\n",
              " 0,\n",
              " 7,\n",
              " 6,\n",
              " 8,\n",
              " 2,\n",
              " 7,\n",
              " 3,\n",
              " 2,\n",
              " 3,\n",
              " 8,\n",
              " 2,\n",
              " 2,\n",
              " 8,\n",
              " 9,\n",
              " 3,\n",
              " 0,\n",
              " 7,\n",
              " 8,\n",
              " 8,\n",
              " 2,\n",
              " 9,\n",
              " 4,\n",
              " 2,\n",
              " 6,\n",
              " 4,\n",
              " 1,\n",
              " 0,\n",
              " 4,\n",
              " 4,\n",
              " 2,\n",
              " 7,\n",
              " 5,\n",
              " 8,\n",
              " 4,\n",
              " 9,\n",
              " 1,\n",
              " 0,\n",
              " 5,\n",
              " 4,\n",
              " 4,\n",
              " 4,\n",
              " 0,\n",
              " 0,\n",
              " 4,\n",
              " 5,\n",
              " 6,\n",
              " 0,\n",
              " 4,\n",
              " 5,\n",
              " 4,\n",
              " 1,\n",
              " 8,\n",
              " 1,\n",
              " 3,\n",
              " 4,\n",
              " 4,\n",
              " 3,\n",
              " 8,\n",
              " 2,\n",
              " 8,\n",
              " 6,\n",
              " 5,\n",
              " 0,\n",
              " 4,\n",
              " 0,\n",
              " 8,\n",
              " 5,\n",
              " 0,\n",
              " 8,\n",
              " 2,\n",
              " 9,\n",
              " 2,\n",
              " 8,\n",
              " 9,\n",
              " 6,\n",
              " 4,\n",
              " 4,\n",
              " 9,\n",
              " 2,\n",
              " 4,\n",
              " 5,\n",
              " 0,\n",
              " 9,\n",
              " 5,\n",
              " 3,\n",
              " 4,\n",
              " 6,\n",
              " 6,\n",
              " 3,\n",
              " 3,\n",
              " 8,\n",
              " 3,\n",
              " 2,\n",
              " 0,\n",
              " 9,\n",
              " 7,\n",
              " 9,\n",
              " 4,\n",
              " 8,\n",
              " 9,\n",
              " 1,\n",
              " 3,\n",
              " 7,\n",
              " 3,\n",
              " 0,\n",
              " 2,\n",
              " 4,\n",
              " 7,\n",
              " 1,\n",
              " 0,\n",
              " 0,\n",
              " 8,\n",
              " 7,\n",
              " 2,\n",
              " 6,\n",
              " 4,\n",
              " 4,\n",
              " 4,\n",
              " 1,\n",
              " 5,\n",
              " 9,\n",
              " 0,\n",
              " 0,\n",
              " 1,\n",
              " 6,\n",
              " 5,\n",
              " 0,\n",
              " 0,\n",
              " 3,\n",
              " 3,\n",
              " 3,\n",
              " 8,\n",
              " 1,\n",
              " 1,\n",
              " 8,\n",
              " 5,\n",
              " 7,\n",
              " 7,\n",
              " 8,\n",
              " 7,\n",
              " 2,\n",
              " 0,\n",
              " 7,\n",
              " 0,\n",
              " 8,\n",
              " 0,\n",
              " 9,\n",
              " 7,\n",
              " 6,\n",
              " 1,\n",
              " 6,\n",
              " 2,\n",
              " 4,\n",
              " 8,\n",
              " 0,\n",
              " 6,\n",
              " 3,\n",
              " 4,\n",
              " 8,\n",
              " 4,\n",
              " 0,\n",
              " 8,\n",
              " 9,\n",
              " 2,\n",
              " 4,\n",
              " 5,\n",
              " 9,\n",
              " 1,\n",
              " 4,\n",
              " 4,\n",
              " 9,\n",
              " 2,\n",
              " 1,\n",
              " 7,\n",
              " 9,\n",
              " 5,\n",
              " 8,\n",
              " 3,\n",
              " 7,\n",
              " 7,\n",
              " 1,\n",
              " 1,\n",
              " 1,\n",
              " 6,\n",
              " 9,\n",
              " 5,\n",
              " 3,\n",
              " 8,\n",
              " 4,\n",
              " 2,\n",
              " 9,\n",
              " 2,\n",
              " 8,\n",
              " 3,\n",
              " 2,\n",
              " 2,\n",
              " 4,\n",
              " 7,\n",
              " 1,\n",
              " 4,\n",
              " 9,\n",
              " 3,\n",
              " 5,\n",
              " 8,\n",
              " 5,\n",
              " 4,\n",
              " 7,\n",
              " 2,\n",
              " 8,\n",
              " 5,\n",
              " 9,\n",
              " 3,\n",
              " 3,\n",
              " 2,\n",
              " 7,\n",
              " 1,\n",
              " 7,\n",
              " 3,\n",
              " 5,\n",
              " 4,\n",
              " 4,\n",
              " 5,\n",
              " 8,\n",
              " 3,\n",
              " 7,\n",
              " 1,\n",
              " 2,\n",
              " 6,\n",
              " 1,\n",
              " 9,\n",
              " 8,\n",
              " 2,\n",
              " 7,\n",
              " 1,\n",
              " 4,\n",
              " 7,\n",
              " 5,\n",
              " 9,\n",
              " 9,\n",
              " 1,\n",
              " 8,\n",
              " 4,\n",
              " 7,\n",
              " 7,\n",
              " 1,\n",
              " 9,\n",
              " 8,\n",
              " 1,\n",
              " 3,\n",
              " 0,\n",
              " 2,\n",
              " 1,\n",
              " 7,\n",
              " 1,\n",
              " 1,\n",
              " 5,\n",
              " 7,\n",
              " 1,\n",
              " 5,\n",
              " 2,\n",
              " 2,\n",
              " 3,\n",
              " 3,\n",
              " 1,\n",
              " 1,\n",
              " 4,\n",
              " 9,\n",
              " 4,\n",
              " 3,\n",
              " 7,\n",
              " 7,\n",
              " 8,\n",
              " 8,\n",
              " 9,\n",
              " 9,\n",
              " 6,\n",
              " 1,\n",
              " 3,\n",
              " 8,\n",
              " 0,\n",
              " 3,\n",
              " 5,\n",
              " 9,\n",
              " 2,\n",
              " 0,\n",
              " 5,\n",
              " 5,\n",
              " 1,\n",
              " 5,\n",
              " 7,\n",
              " 8,\n",
              " 7,\n",
              " 7,\n",
              " 3,\n",
              " 6,\n",
              " 2,\n",
              " 0,\n",
              " 4,\n",
              " 0,\n",
              " 2,\n",
              " 0,\n",
              " 2,\n",
              " 5,\n",
              " 5,\n",
              " 1,\n",
              " 2,\n",
              " 0,\n",
              " 9,\n",
              " 3,\n",
              " 7,\n",
              " 8,\n",
              " 4,\n",
              " 8,\n",
              " 3,\n",
              " 4,\n",
              " 5,\n",
              " 6,\n",
              " 7,\n",
              " 4,\n",
              " 8,\n",
              " 6,\n",
              " 3,\n",
              " 4,\n",
              " 4,\n",
              " 3,\n",
              " 6,\n",
              " 9,\n",
              " 0,\n",
              " 2,\n",
              " 4,\n",
              " 9,\n",
              " 1,\n",
              " 8,\n",
              " 1,\n",
              " 7,\n",
              " 9,\n",
              " 7,\n",
              " 6,\n",
              " 0,\n",
              " 2,\n",
              " 1,\n",
              " 0,\n",
              " 5,\n",
              " 4,\n",
              " 0,\n",
              " 0,\n",
              " 2,\n",
              " 7,\n",
              " 5,\n",
              " 0,\n",
              " 2,\n",
              " 5,\n",
              " 9,\n",
              " 4,\n",
              " 8,\n",
              " 6,\n",
              " 0,\n",
              " 4,\n",
              " 0,\n",
              " 2,\n",
              " 9,\n",
              " 3,\n",
              " 7,\n",
              " 7,\n",
              " 1,\n",
              " 4,\n",
              " 4,\n",
              " 0,\n",
              " 5,\n",
              " 0,\n",
              " 9,\n",
              " 9,\n",
              " 8,\n",
              " 8,\n",
              " 2,\n",
              " 0,\n",
              " 4,\n",
              " 4,\n",
              " 6,\n",
              " 6,\n",
              " 3,\n",
              " 2,\n",
              " 3,\n",
              " 7,\n",
              " 2,\n",
              " 9,\n",
              " 3,\n",
              " 4,\n",
              " 7,\n",
              " 7,\n",
              " ...]"
            ]
          },
          "metadata": {},
          "execution_count": 159
        }
      ]
    },
    {
      "cell_type": "code",
      "source": [
        "y == y_pr"
      ],
      "metadata": {
        "colab": {
          "base_uri": "https://localhost:8080/"
        },
        "id": "n5W7AFAl82QA",
        "outputId": "f5243bb2-4b6e-436f-dfd2-9718be2996d8"
      },
      "execution_count": null,
      "outputs": [
        {
          "output_type": "execute_result",
          "data": {
            "text/plain": [
              "array([ True,  True,  True, ...,  True,  True,  True])"
            ]
          },
          "metadata": {},
          "execution_count": 160
        }
      ]
    },
    {
      "cell_type": "code",
      "source": [
        "from sklearn.metrics import confusion_matrix\n",
        "cm =confusion_matrix(y,y_pr)\n",
        "plt.figure(figsize=(15,11))\n",
        "sns.heatmap(cm,annot=True)\n"
      ],
      "metadata": {
        "colab": {
          "base_uri": "https://localhost:8080/",
          "height": 663
        },
        "id": "2QfgQq6F8EIq",
        "outputId": "6fa5e0ac-f1ec-49eb-fe55-58959eb419ab"
      },
      "execution_count": null,
      "outputs": [
        {
          "output_type": "execute_result",
          "data": {
            "text/plain": [
              "<matplotlib.axes._subplots.AxesSubplot at 0x7fceb5b086d0>"
            ]
          },
          "metadata": {},
          "execution_count": 165
        },
        {
          "output_type": "display_data",
          "data": {
            "text/plain": [
              "<Figure size 1080x792 with 2 Axes>"
            ],
            "image/png": "[encoded data removed]"
          },
          "metadata": {
            "needs_background": "light"
          }
        }
      ]
    }
  ]
}