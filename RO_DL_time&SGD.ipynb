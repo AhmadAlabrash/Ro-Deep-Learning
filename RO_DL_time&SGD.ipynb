{
  "nbformat": 4,
  "nbformat_minor": 0,
  "metadata": {
    "colab": {
      "provenance": [],
      "collapsed_sections": [],
      "authorship_tag": "ABX9TyP3444QWuK1qsWCJ0FALpR5",
      "include_colab_link": true
    },
    "kernelspec": {
      "name": "python3",
      "display_name": "Python 3"
    },
    "language_info": {
      "name": "python"
    }
  },
  "cells": [
    {
      "cell_type": "markdown",
      "metadata": {
        "id": "view-in-github",
        "colab_type": "text"
      },
      "source": [
        "<a href=\"https://colab.research.google.com/github/AhmadAlabrash/Ro-Deep-Learning/blob/main/RO_DL_time%26SGD.ipynb\" target=\"_parent\"><img src=\"https://colab.research.google.com/assets/colab-badge.svg\" alt=\"Open In Colab\"/></a>"
      ]
    },
    {
      "cell_type": "code",
      "execution_count": 71,
      "metadata": {
        "id": "7-STjIkXTZj0"
      },
      "outputs": [],
      "source": [
        "import tensorflow as tf\n",
        "from tensorflow import keras\n",
        "import matplotlib.pyplot as plt\n",
        "import numpy as np"
      ]
    },
    {
      "cell_type": "code",
      "source": [
        "tf.config.experimental.list_physical_devices()"
      ],
      "metadata": {
        "colab": {
          "base_uri": "https://localhost:8080/"
        },
        "id": "ecakW6cakBcD",
        "outputId": "b6f41fe8-a326-4160-dbe0-b24d8db096b9"
      },
      "execution_count": 72,
      "outputs": [
        {
          "output_type": "execute_result",
          "data": {
            "text/plain": [
              "[PhysicalDevice(name='/physical_device:CPU:0', device_type='CPU')]"
            ]
          },
          "metadata": {},
          "execution_count": 72
        }
      ]
    },
    {
      "cell_type": "code",
      "source": [
        "%%timeit -n1 -r1\n",
        "with tf.device('/CPU:0'):\n",
        "  print('as')"
      ],
      "metadata": {
        "colab": {
          "base_uri": "https://localhost:8080/"
        },
        "id": "7HRLtjFhkVIr",
        "outputId": "61d8f545-d7a8-4b13-babc-716ca6deb41b"
      },
      "execution_count": 73,
      "outputs": [
        {
          "output_type": "stream",
          "name": "stdout",
          "text": [
            "as\n",
            "2.87 ms ± 0 ns per loop (mean ± std. dev. of 1 run, 1 loop each)\n"
          ]
        }
      ]
    },
    {
      "cell_type": "code",
      "source": [
        "(X,Y) ,(x,y) =tf.keras.datasets.cifar10.load_data()\n"
      ],
      "metadata": {
        "id": "u0Upqba4lPVW"
      },
      "execution_count": 74,
      "outputs": []
    },
    {
      "cell_type": "code",
      "source": [
        "X[1]"
      ],
      "metadata": {
        "colab": {
          "base_uri": "https://localhost:8080/"
        },
        "id": "5mqpASVdmRQG",
        "outputId": "00ef7297-bb6c-4ec3-c5bf-f75eef8b072d"
      },
      "execution_count": 75,
      "outputs": [
        {
          "output_type": "execute_result",
          "data": {
            "text/plain": [
              "array([[[154, 177, 187],\n",
              "        [126, 137, 136],\n",
              "        [105, 104,  95],\n",
              "        ...,\n",
              "        [ 91,  95,  71],\n",
              "        [ 87,  90,  71],\n",
              "        [ 79,  81,  70]],\n",
              "\n",
              "       [[140, 160, 169],\n",
              "        [145, 153, 154],\n",
              "        [125, 125, 118],\n",
              "        ...,\n",
              "        [ 96,  99,  78],\n",
              "        [ 77,  80,  62],\n",
              "        [ 71,  73,  61]],\n",
              "\n",
              "       [[140, 155, 164],\n",
              "        [139, 146, 149],\n",
              "        [115, 115, 112],\n",
              "        ...,\n",
              "        [ 79,  82,  64],\n",
              "        [ 68,  70,  55],\n",
              "        [ 67,  69,  55]],\n",
              "\n",
              "       ...,\n",
              "\n",
              "       [[175, 167, 166],\n",
              "        [156, 154, 160],\n",
              "        [154, 160, 170],\n",
              "        ...,\n",
              "        [ 42,  34,  36],\n",
              "        [ 61,  53,  57],\n",
              "        [ 93,  83,  91]],\n",
              "\n",
              "       [[165, 154, 128],\n",
              "        [156, 152, 130],\n",
              "        [159, 161, 142],\n",
              "        ...,\n",
              "        [103,  93,  96],\n",
              "        [123, 114, 120],\n",
              "        [131, 121, 131]],\n",
              "\n",
              "       [[163, 148, 120],\n",
              "        [158, 148, 122],\n",
              "        [163, 156, 133],\n",
              "        ...,\n",
              "        [143, 133, 139],\n",
              "        [143, 134, 142],\n",
              "        [143, 133, 144]]], dtype=uint8)"
            ]
          },
          "metadata": {},
          "execution_count": 75
        }
      ]
    },
    {
      "cell_type": "code",
      "source": [
        "plt.matshow(x[1])"
      ],
      "metadata": {
        "colab": {
          "base_uri": "https://localhost:8080/",
          "height": 292
        },
        "id": "k6HgFxtOl19d",
        "outputId": "428cd6d7-fb33-4c5d-d4a3-0f4ef3592feb"
      },
      "execution_count": 76,
      "outputs": [
        {
          "output_type": "execute_result",
          "data": {
            "text/plain": [
              "<matplotlib.image.AxesImage at 0x7f017327ac90>"
            ]
          },
          "metadata": {},
          "execution_count": 76
        },
        {
          "output_type": "display_data",
          "data": {
            "text/plain": [
              "<Figure size 288x288 with 1 Axes>"
            ],
            "image/png": "[encoded data removed]"
          },
          "metadata": {
            "needs_background": "light"
          }
        }
      ]
    },
    {
      "cell_type": "code",
      "source": [
        "X.shape"
      ],
      "metadata": {
        "colab": {
          "base_uri": "https://localhost:8080/"
        },
        "id": "enu_CBdFmu3N",
        "outputId": "90a76d31-0546-40bb-b9b8-a8b07294ecf1"
      },
      "execution_count": 77,
      "outputs": [
        {
          "output_type": "execute_result",
          "data": {
            "text/plain": [
              "(50000, 32, 32, 3)"
            ]
          },
          "metadata": {},
          "execution_count": 77
        }
      ]
    },
    {
      "cell_type": "code",
      "source": [
        "y[1]"
      ],
      "metadata": {
        "colab": {
          "base_uri": "https://localhost:8080/"
        },
        "id": "09pGHNFym9BT",
        "outputId": "7a8a2b86-0517-4874-8dc1-a862ec4108a8"
      },
      "execution_count": 78,
      "outputs": [
        {
          "output_type": "execute_result",
          "data": {
            "text/plain": [
              "array([8], dtype=uint8)"
            ]
          },
          "metadata": {},
          "execution_count": 78
        }
      ]
    },
    {
      "cell_type": "code",
      "source": [
        "x_scaled = X/255\n",
        "x_scaled.shape"
      ],
      "metadata": {
        "colab": {
          "base_uri": "https://localhost:8080/"
        },
        "id": "aqCw6rTunE9F",
        "outputId": "520dd950-8bc7-47c8-de03-1b9620ac53b3"
      },
      "execution_count": 79,
      "outputs": [
        {
          "output_type": "execute_result",
          "data": {
            "text/plain": [
              "(50000, 32, 32, 3)"
            ]
          },
          "metadata": {},
          "execution_count": 79
        }
      ]
    },
    {
      "cell_type": "code",
      "source": [
        "x_test_scaled = x/255"
      ],
      "metadata": {
        "id": "PUPWPjPjsUJ4"
      },
      "execution_count": 80,
      "outputs": []
    },
    {
      "cell_type": "code",
      "source": [
        "y_ctegorical = keras.utils.to_categorical(Y,num_classes=10)\n",
        "y_test_cate =keras.utils.to_categorical(y,num_classes=10)"
      ],
      "metadata": {
        "id": "aJyeHD3anS_P"
      },
      "execution_count": 81,
      "outputs": []
    },
    {
      "cell_type": "code",
      "source": [
        "from tensorflow._api.v2.config import optimizer\n",
        "model = tf.keras.Sequential([\n",
        "    keras.layers.Flatten(input_shape=(32,32,3)),\n",
        "    keras.layers.Dense(1000,activation='relu'),\n",
        "    keras.layers.Dense(10,activation='sigmoid'),\n",
        "])\n",
        "model.compile(\n",
        "\n",
        "  optimizer='SGD',\n",
        "  loss='categorical_crossentropy',\n",
        "  metrics  = ['accuracy']\n",
        ")\n",
        "model.fit(x_scaled,y_ctegorical,epochs=50)"
      ],
      "metadata": {
        "colab": {
          "base_uri": "https://localhost:8080/"
        },
        "id": "nbbMUGTXn53G",
        "outputId": "859e20ef-b635-4f47-9b7c-b63831a6b5bb"
      },
      "execution_count": 82,
      "outputs": [
        {
          "output_type": "stream",
          "name": "stdout",
          "text": [
            "Epoch 1/50\n",
            "1563/1563 [==============================] - 31s 19ms/step - loss: 1.8478 - accuracy: 0.3427\n",
            "Epoch 2/50\n",
            "1563/1563 [==============================] - 32s 21ms/step - loss: 1.6734 - accuracy: 0.4109\n",
            "Epoch 3/50\n",
            "1563/1563 [==============================] - 31s 20ms/step - loss: 1.5974 - accuracy: 0.4411\n",
            "Epoch 4/50\n",
            "1563/1563 [==============================] - 30s 19ms/step - loss: 1.5458 - accuracy: 0.4578\n",
            "Epoch 5/50\n",
            "1563/1563 [==============================] - 32s 20ms/step - loss: 1.5016 - accuracy: 0.4745\n",
            "Epoch 6/50\n",
            "1563/1563 [==============================] - 33s 21ms/step - loss: 1.4669 - accuracy: 0.4873\n",
            "Epoch 7/50\n",
            "1563/1563 [==============================] - 33s 21ms/step - loss: 1.4341 - accuracy: 0.4990\n",
            "Epoch 8/50\n",
            "1563/1563 [==============================] - 31s 20ms/step - loss: 1.4058 - accuracy: 0.5085\n",
            "Epoch 9/50\n",
            "1563/1563 [==============================] - 32s 21ms/step - loss: 1.3795 - accuracy: 0.5192\n",
            "Epoch 10/50\n",
            "1563/1563 [==============================] - 31s 20ms/step - loss: 1.3577 - accuracy: 0.5285\n",
            "Epoch 11/50\n",
            "1563/1563 [==============================] - 32s 21ms/step - loss: 1.3343 - accuracy: 0.5333\n",
            "Epoch 12/50\n",
            "1563/1563 [==============================] - 30s 19ms/step - loss: 1.3131 - accuracy: 0.5433\n",
            "Epoch 13/50\n",
            "1563/1563 [==============================] - 33s 21ms/step - loss: 1.2961 - accuracy: 0.5480\n",
            "Epoch 14/50\n",
            "1563/1563 [==============================] - 30s 19ms/step - loss: 1.2778 - accuracy: 0.5546\n",
            "Epoch 15/50\n",
            "1563/1563 [==============================] - 32s 20ms/step - loss: 1.2568 - accuracy: 0.5628\n",
            "Epoch 16/50\n",
            "1563/1563 [==============================] - 32s 20ms/step - loss: 1.2409 - accuracy: 0.5655\n",
            "Epoch 17/50\n",
            "1563/1563 [==============================] - 31s 20ms/step - loss: 1.2247 - accuracy: 0.5729\n",
            "Epoch 18/50\n",
            "1563/1563 [==============================] - 31s 20ms/step - loss: 1.2092 - accuracy: 0.5774\n",
            "Epoch 19/50\n",
            "1563/1563 [==============================] - 32s 21ms/step - loss: 1.1926 - accuracy: 0.5846\n",
            "Epoch 20/50\n",
            "1563/1563 [==============================] - 30s 19ms/step - loss: 1.1795 - accuracy: 0.5891\n",
            "Epoch 21/50\n",
            "1563/1563 [==============================] - 30s 19ms/step - loss: 1.1622 - accuracy: 0.5977\n",
            "Epoch 22/50\n",
            "1563/1563 [==============================] - 31s 20ms/step - loss: 1.1504 - accuracy: 0.6021\n",
            "Epoch 23/50\n",
            "1563/1563 [==============================] - 31s 20ms/step - loss: 1.1345 - accuracy: 0.6057\n",
            "Epoch 24/50\n",
            "1563/1563 [==============================] - 32s 20ms/step - loss: 1.1193 - accuracy: 0.6106\n",
            "Epoch 25/50\n",
            "1563/1563 [==============================] - 30s 19ms/step - loss: 1.1054 - accuracy: 0.6169\n",
            "Epoch 26/50\n",
            "1563/1563 [==============================] - 32s 20ms/step - loss: 1.0903 - accuracy: 0.6216\n",
            "Epoch 27/50\n",
            "1563/1563 [==============================] - 30s 19ms/step - loss: 1.0782 - accuracy: 0.6275\n",
            "Epoch 28/50\n",
            "1563/1563 [==============================] - 33s 21ms/step - loss: 1.0666 - accuracy: 0.6310\n",
            "Epoch 29/50\n",
            "1563/1563 [==============================] - 30s 19ms/step - loss: 1.0519 - accuracy: 0.6360\n",
            "Epoch 30/50\n",
            "1563/1563 [==============================] - 31s 20ms/step - loss: 1.0375 - accuracy: 0.6407\n",
            "Epoch 31/50\n",
            "1563/1563 [==============================] - 31s 20ms/step - loss: 1.0267 - accuracy: 0.6455\n",
            "Epoch 32/50\n",
            "1563/1563 [==============================] - 31s 20ms/step - loss: 1.0127 - accuracy: 0.6515\n",
            "Epoch 33/50\n",
            "1563/1563 [==============================] - 31s 20ms/step - loss: 1.0008 - accuracy: 0.6537\n",
            "Epoch 34/50\n",
            "1563/1563 [==============================] - 32s 20ms/step - loss: 0.9865 - accuracy: 0.6599\n",
            "Epoch 35/50\n",
            "1563/1563 [==============================] - 29s 19ms/step - loss: 0.9756 - accuracy: 0.6626\n",
            "Epoch 36/50\n",
            "1563/1563 [==============================] - 32s 21ms/step - loss: 0.9608 - accuracy: 0.6678\n",
            "Epoch 37/50\n",
            "1563/1563 [==============================] - 30s 19ms/step - loss: 0.9502 - accuracy: 0.6733\n",
            "Epoch 38/50\n",
            "1563/1563 [==============================] - 31s 20ms/step - loss: 0.9371 - accuracy: 0.6777\n",
            "Epoch 39/50\n",
            "1563/1563 [==============================] - 31s 20ms/step - loss: 0.9257 - accuracy: 0.6825\n",
            "Epoch 40/50\n",
            "1563/1563 [==============================] - 30s 19ms/step - loss: 0.9120 - accuracy: 0.6855\n",
            "Epoch 41/50\n",
            "1563/1563 [==============================] - 30s 19ms/step - loss: 0.9000 - accuracy: 0.6900\n",
            "Epoch 42/50\n",
            "1563/1563 [==============================] - 32s 20ms/step - loss: 0.8897 - accuracy: 0.6966\n",
            "Epoch 43/50\n",
            "1563/1563 [==============================] - 32s 21ms/step - loss: 0.8764 - accuracy: 0.7002\n",
            "Epoch 44/50\n",
            "1563/1563 [==============================] - 30s 19ms/step - loss: 0.8652 - accuracy: 0.7033\n",
            "Epoch 45/50\n",
            "1563/1563 [==============================] - 31s 20ms/step - loss: 0.8527 - accuracy: 0.7072\n",
            "Epoch 46/50\n",
            "1563/1563 [==============================] - 31s 20ms/step - loss: 0.8425 - accuracy: 0.7102\n",
            "Epoch 47/50\n",
            "1563/1563 [==============================] - 32s 20ms/step - loss: 0.8276 - accuracy: 0.7166\n",
            "Epoch 48/50\n",
            "1563/1563 [==============================] - 30s 19ms/step - loss: 0.8198 - accuracy: 0.7201\n",
            "Epoch 49/50\n",
            "1563/1563 [==============================] - 32s 20ms/step - loss: 0.8077 - accuracy: 0.7250\n",
            "Epoch 50/50\n",
            "1563/1563 [==============================] - 31s 20ms/step - loss: 0.7955 - accuracy: 0.7271\n"
          ]
        },
        {
          "output_type": "execute_result",
          "data": {
            "text/plain": [
              "<keras.callbacks.History at 0x7f0173265810>"
            ]
          },
          "metadata": {},
          "execution_count": 82
        }
      ]
    },
    {
      "cell_type": "code",
      "source": [
        "model.evaluate(x_test_scaled,y_test_cate)"
      ],
      "metadata": {
        "colab": {
          "base_uri": "https://localhost:8080/"
        },
        "id": "6nLeS670sb0d",
        "outputId": "29175445-f072-44fa-c7dd-55b9d2efcc2e"
      },
      "execution_count": 83,
      "outputs": [
        {
          "output_type": "stream",
          "name": "stdout",
          "text": [
            "313/313 [==============================] - 4s 11ms/step - loss: 1.4622 - accuracy: 0.5165\n"
          ]
        },
        {
          "output_type": "execute_result",
          "data": {
            "text/plain": [
              "[1.4621661901474, 0.5164999961853027]"
            ]
          },
          "metadata": {},
          "execution_count": 83
        }
      ]
    },
    {
      "cell_type": "code",
      "source": [
        "np.argmax(model.predict(x_test_scaled)[9])"
      ],
      "metadata": {
        "colab": {
          "base_uri": "https://localhost:8080/"
        },
        "id": "7C3awGLSr90a",
        "outputId": "9cb7cf79-6c63-474b-f0b9-21968830f795"
      },
      "execution_count": 84,
      "outputs": [
        {
          "output_type": "stream",
          "name": "stdout",
          "text": [
            "313/313 [==============================] - 3s 9ms/step\n"
          ]
        },
        {
          "output_type": "execute_result",
          "data": {
            "text/plain": [
              "1"
            ]
          },
          "metadata": {},
          "execution_count": 84
        }
      ]
    },
    {
      "cell_type": "code",
      "source": [
        "y[9]"
      ],
      "metadata": {
        "colab": {
          "base_uri": "https://localhost:8080/"
        },
        "id": "D5LzlSsssMd-",
        "outputId": "0c24fe81-ed0b-4980-98b3-100ca3a7a91a"
      },
      "execution_count": 85,
      "outputs": [
        {
          "output_type": "execute_result",
          "data": {
            "text/plain": [
              "array([1], dtype=uint8)"
            ]
          },
          "metadata": {},
          "execution_count": 85
        }
      ]
    }
  ]
}