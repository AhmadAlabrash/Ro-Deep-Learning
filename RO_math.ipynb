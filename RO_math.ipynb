{
  "nbformat": 4,
  "nbformat_minor": 0,
  "metadata": {
    "colab": {
      "provenance": [],
      "collapsed_sections": [],
      "authorship_tag": "ABX9TyP0tx5nYeNx0hTZ8yso5FZp",
      "include_colab_link": true
    },
    "kernelspec": {
      "name": "python3",
      "display_name": "Python 3"
    },
    "language_info": {
      "name": "python"
    }
  },
  "cells": [
    {
      "cell_type": "markdown",
      "metadata": {
        "id": "view-in-github",
        "colab_type": "text"
      },
      "source": [
        "<a href=\"https://colab.research.google.com/github/AhmadAlabrash/Ro-Deep-Learning/blob/main/RO_math.ipynb\" target=\"_parent\"><img src=\"https://colab.research.google.com/assets/colab-badge.svg\" alt=\"Open In Colab\"/></a>"
      ]
    },
    {
      "cell_type": "code",
      "execution_count": null,
      "metadata": {
        "id": "WGxFR_ISlGi7"
      },
      "outputs": [],
      "source": [
        "import numpy as np"
      ]
    },
    {
      "cell_type": "code",
      "source": [
        "prices =np.array([450,700,1440])\n",
        "sales_num =np.array([[100,340,560],[110,324,756],[210,434,856]])"
      ],
      "metadata": {
        "id": "YrQfuquhlM2E"
      },
      "execution_count": null,
      "outputs": []
    },
    {
      "cell_type": "code",
      "source": [
        "#dot 2 matrics                                        \n",
        "total_sales = np.dot(prices,sales_num)\n",
        "total_sales"
      ],
      "metadata": {
        "colab": {
          "base_uri": "https://localhost:8080/"
        },
        "id": "kR15UHEJl6nE",
        "outputId": "3cf281b3-dcd3-4dd0-cb61-09715d93adcf"
      },
      "execution_count": null,
      "outputs": [
        {
          "output_type": "execute_result",
          "data": {
            "text/plain": [
              "array([ 424400, 1004760, 2013840])"
            ]
          },
          "metadata": {},
          "execution_count": 37
        }
      ]
    },
    {
      "cell_type": "code",
      "source": [
        "# mean absolute error\n",
        "def mae(y , y_pre):\n",
        " res=0\n",
        " for j ,k in zip(y,y_pre):\n",
        "  t= np.abs(j - k )\n",
        "  res += t\n",
        "\n",
        " return res/len(y) "
      ],
      "metadata": {
        "id": "QFb_qt1f0XQg"
      },
      "execution_count": null,
      "outputs": []
    },
    {
      "cell_type": "code",
      "source": [
        "mae([100,340,560],[110,324,756])"
      ],
      "metadata": {
        "colab": {
          "base_uri": "https://localhost:8080/"
        },
        "id": "b8zlNPSy1P01",
        "outputId": "64be7787-50b5-42eb-8a9a-b325331f2c60"
      },
      "execution_count": null,
      "outputs": [
        {
          "output_type": "execute_result",
          "data": {
            "text/plain": [
              "74.0"
            ]
          },
          "metadata": {},
          "execution_count": 39
        }
      ]
    },
    {
      "cell_type": "code",
      "source": [
        "# mean squared error\n",
        "def mse(y , y_pre):\n",
        " res=0\n",
        " for j ,k in zip(y,y_pre):\n",
        "  t= np.square(j - k )\n",
        "  res += t\n",
        "\n",
        " return res/len(y) "
      ],
      "metadata": {
        "id": "22SnMOVn1nnk"
      },
      "execution_count": null,
      "outputs": []
    },
    {
      "cell_type": "code",
      "source": [
        "mse([100,340,560],[110,324,756])"
      ],
      "metadata": {
        "colab": {
          "base_uri": "https://localhost:8080/"
        },
        "id": "nr8T2GS_1naz",
        "outputId": "f23d183b-0cec-469e-c587-62a57bb7e19f"
      },
      "execution_count": null,
      "outputs": [
        {
          "output_type": "execute_result",
          "data": {
            "text/plain": [
              "12924.0"
            ]
          },
          "metadata": {},
          "execution_count": 41
        }
      ]
    },
    {
      "cell_type": "code",
      "source": [
        "y =np.array([1,0.7,0,0.99,0.3,0])\n",
        "y_pr =np.array([1,1,0,0,1,0]).astype('i')\n",
        "ep =1e-15\n",
        "y_pr"
      ],
      "metadata": {
        "colab": {
          "base_uri": "https://localhost:8080/"
        },
        "id": "iOpfLFjI9CCp",
        "outputId": "12e6d3fe-65a4-49ec-db97-dbee200c8ec4"
      },
      "execution_count": null,
      "outputs": [
        {
          "output_type": "execute_result",
          "data": {
            "text/plain": [
              "array([1, 1, 0, 0, 1, 0], dtype=int32)"
            ]
          },
          "metadata": {},
          "execution_count": 42
        }
      ]
    },
    {
      "cell_type": "code",
      "source": [
        "#log\n",
        "def log(y , y_p):\n",
        "\n",
        "  #change every zero to 0.000000001 to not have error wth log                 \n",
        "  y_pr_new1 =[ max(i,ep) for i in y_p ]\n",
        "\n",
        "  #change every one to 0.999999999 to not have error wth log  \n",
        "  y_pr_new2 =[ min(i,1-ep) for i in y_pr_new1 ]\n",
        " \n",
        "  y_pr_new2=np.array(y_pr_new2)\n",
        "  res=0\n",
        " \n",
        "  for j ,k in zip(y,y_pr_new2):\n",
        "   t= np.sum( j * np.log(k) + ( (1-j) * np.log(1-k)  ))\n",
        "   res += t\n",
        "\n",
        "  return -res/len(y) \n",
        " \n",
        "  #or\n",
        "  #return -np.mean( y * np.log(y_pr_new2) +  (1-y) * np.log(1-y_pr_new2)  )\n",
        "\n",
        "log(y,y_pr)"
      ],
      "metadata": {
        "colab": {
          "base_uri": "https://localhost:8080/"
        },
        "id": "uS66E1C287ar",
        "outputId": "95360bed-428b-44d2-9e2f-43aa25fa708c"
      },
      "execution_count": null,
      "outputs": [
        {
          "output_type": "execute_result",
          "data": {
            "text/plain": [
              "11.455494103883744"
            ]
          },
          "metadata": {},
          "execution_count": 70
        }
      ]
    },
    {
      "cell_type": "code",
      "source": [
        "class mynn :\n",
        "\n",
        " def __init__(self):\n",
        "        self.w1 = 1 \n",
        "        self.w2 = 1\n",
        "        self.bias = 0\n",
        "\n",
        " #log\n",
        " def log_loss(self,y , y_p):\n",
        "\n",
        "  #change every zero to 0.000000001 to not have error wth log                 \n",
        "  y_pr_new1 =[ max(i,ep) for i in y_p ]\n",
        "\n",
        "  #change every one to 0.999999999 to not have error wth log  \n",
        "  y_pr_new2 =[ min(i,1-ep) for i in y_pr_new1 ]\n",
        " \n",
        "  y_pr_new2=np.array(y_pr_new2)\n",
        "  res=0\n",
        "  return -np.mean( y * np.log(y_pr_new2) +  (1-y) * np.log(1-y_pr_new2)  )\n",
        "\n",
        "\n",
        " # gradient descent\n",
        " def gradient_descent(self,age, affordability, y_true, rate , epochs ):\n",
        "    w1 = w2 = 1\n",
        "    bias = 0\n",
        "    rate = rate \n",
        "    n = len(age)\n",
        "\n",
        "    for i in range(epochs):\n",
        "\n",
        "        weighted_sum = w1 * age + w2 * affordability + bias\n",
        "\n",
        "        #sigmoid\n",
        "        y_predicted = 1/(1+np.exp(-weighted_sum))\n",
        "       \n",
        "\n",
        "        w1d = (1/n)*np.dot(np.transpose(age),(y_predicted-y_true)) \n",
        "        w2d = (1/n)*np.dot(np.transpose(affordability),(y_predicted-y_true)) \n",
        "        bias_d = np.mean(y_predicted-y_true)\n",
        "\n",
        "        w1 = w1 - rate * w1d\n",
        "        w2 = w2 - rate * w2d\n",
        "        bias = bias - rate * bias_d\n",
        " \n",
        "        loss = log_loss(y_true, y_predicted)\n",
        "        print (f'Epoch:{i}, w1:{w1}, w2:{w2}, bias:{bias}, loss:{loss}')\n",
        "\n",
        "        \n",
        "\n",
        "    return w1, w2, bias\n",
        "\n",
        " def predict(self,x) :\n",
        "\n",
        "        weighted_sum = self.w1 * x.age + self.w2 * x.affordability + self.bias\n",
        "\n",
        "        #sigmoid\n",
        "        y_predicted = 1/(1+np.exp(-weighted_sum))"
      ],
      "metadata": {
        "id": "lRSvLrS5Yi_7"
      },
      "execution_count": null,
      "outputs": []
    }
  ]
}