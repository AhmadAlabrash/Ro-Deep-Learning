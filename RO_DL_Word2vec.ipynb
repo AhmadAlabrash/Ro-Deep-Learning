{
  "nbformat": 4,
  "nbformat_minor": 0,
  "metadata": {
    "colab": {
      "provenance": [],
      "authorship_tag": "ABX9TyPD5aWlgVMPBxDSttLptSpf",
      "include_colab_link": true
    },
    "kernelspec": {
      "name": "python3",
      "display_name": "Python 3"
    },
    "language_info": {
      "name": "python"
    }
  },
  "cells": [
    {
      "cell_type": "markdown",
      "metadata": {
        "id": "view-in-github",
        "colab_type": "text"
      },
      "source": [
        "<a href=\"https://colab.research.google.com/github/AhmadAlabrash/Ro-Deep-Learning/blob/main/RO_DL_Word2vec.ipynb\" target=\"_parent\"><img src=\"https://colab.research.google.com/assets/colab-badge.svg\" alt=\"Open In Colab\"/></a>"
      ]
    },
    {
      "cell_type": "code",
      "execution_count": 22,
      "metadata": {
        "id": "m-GxJtSC14FB"
      },
      "outputs": [],
      "source": [
        "import pandas as pd\n",
        "import gensim"
      ]
    },
    {
      "cell_type": "code",
      "source": [
        "df = pd.read_json('/content/Cell_Phones_and_Accessories_5.json',lines=True)"
      ],
      "metadata": {
        "id": "XWGtAy903kdD"
      },
      "execution_count": 23,
      "outputs": []
    },
    {
      "cell_type": "code",
      "source": [
        "df.reviewText[0]"
      ],
      "metadata": {
        "colab": {
          "base_uri": "https://localhost:8080/",
          "height": 53
        },
        "id": "0ELVrvjD_K7U",
        "outputId": "62f0e3fa-3117-4af5-9b08-8e78abc312ee"
      },
      "execution_count": 24,
      "outputs": [
        {
          "output_type": "execute_result",
          "data": {
            "text/plain": [
              "\"They look good and stick good! I just don't like the rounded shape because I was always bumping it and Siri kept popping up and it was irritating. I just won't buy a product like this again\""
            ],
            "application/vnd.google.colaboratory.intrinsic+json": {
              "type": "string"
            }
          },
          "metadata": {},
          "execution_count": 24
        }
      ]
    },
    {
      "cell_type": "code",
      "source": [
        "review = df.reviewText.apply(gensim.utils.simple_preprocess)"
      ],
      "metadata": {
        "id": "2or6wFvs33GX"
      },
      "execution_count": 25,
      "outputs": []
    },
    {
      "cell_type": "code",
      "source": [
        "\n",
        "model =gensim.models.Word2Vec( size=100, window=5, min_count=1, workers=4)"
      ],
      "metadata": {
        "id": "1YMfPgNU5WG0"
      },
      "execution_count": 26,
      "outputs": []
    },
    {
      "cell_type": "code",
      "source": [
        "model.build_vocab(review , progress_per=1000)"
      ],
      "metadata": {
        "id": "cl1qIy7u_yD_"
      },
      "execution_count": 27,
      "outputs": []
    },
    {
      "cell_type": "code",
      "source": [
        "model.train(review ,total_examples=model.corpus_count , epochs=model.epochs)"
      ],
      "metadata": {
        "colab": {
          "base_uri": "https://localhost:8080/"
        },
        "id": "inAJVvAGAaKz",
        "outputId": "cd635763-98a4-4508-a55a-262f46acef4f"
      },
      "execution_count": 28,
      "outputs": [
        {
          "output_type": "execute_result",
          "data": {
            "text/plain": [
              "(61725873, 83868975)"
            ]
          },
          "metadata": {},
          "execution_count": 28
        }
      ]
    },
    {
      "cell_type": "code",
      "source": [
        "model.wv.similarity(w1 = 'product',w2='nice')"
      ],
      "metadata": {
        "colab": {
          "base_uri": "https://localhost:8080/"
        },
        "id": "WSVXZdXBBL7x",
        "outputId": "68ec429f-0305-410c-85ff-424a6f8209f6"
      },
      "execution_count": 36,
      "outputs": [
        {
          "output_type": "execute_result",
          "data": {
            "text/plain": [
              "-0.07214058"
            ]
          },
          "metadata": {},
          "execution_count": 36
        }
      ]
    },
    {
      "cell_type": "code",
      "source": [
        "model.wv.most_similar('good')"
      ],
      "metadata": {
        "colab": {
          "base_uri": "https://localhost:8080/"
        },
        "id": "OaoCE4WTBcT5",
        "outputId": "a96b4b5e-36eb-48fe-85b0-38f88f87ed78"
      },
      "execution_count": 37,
      "outputs": [
        {
          "output_type": "execute_result",
          "data": {
            "text/plain": [
              "[('decent', 0.8443965315818787),\n",
              " ('great', 0.8027043342590332),\n",
              " ('fantastic', 0.7451572418212891),\n",
              " ('nice', 0.7353403568267822),\n",
              " ('superb', 0.6770516633987427),\n",
              " ('excellent', 0.665685772895813),\n",
              " ('awesome', 0.6629015207290649),\n",
              " ('wonderful', 0.6622486114501953),\n",
              " ('terrific', 0.6581873297691345),\n",
              " ('outstanding', 0.640194296836853)]"
            ]
          },
          "metadata": {},
          "execution_count": 37
        }
      ]
    }
  ]
}