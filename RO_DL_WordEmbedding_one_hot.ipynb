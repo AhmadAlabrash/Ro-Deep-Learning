{
  "nbformat": 4,
  "nbformat_minor": 0,
  "metadata": {
    "colab": {
      "provenance": [],
      "authorship_tag": "ABX9TyOcvskcrgIAd+Uye+ZssF95",
      "include_colab_link": true
    },
    "kernelspec": {
      "name": "python3",
      "display_name": "Python 3"
    },
    "language_info": {
      "name": "python"
    }
  },
  "cells": [
    {
      "cell_type": "markdown",
      "metadata": {
        "id": "view-in-github",
        "colab_type": "text"
      },
      "source": [
        "<a href=\"https://colab.research.google.com/github/AhmadAlabrash/Ro-Deep-Learning/blob/main/RO_DL_WordEmbedding_one_hot.ipynb\" target=\"_parent\"><img src=\"https://colab.research.google.com/assets/colab-badge.svg\" alt=\"Open In Colab\"/></a>"
      ]
    },
    {
      "cell_type": "code",
      "execution_count": 62,
      "metadata": {
        "id": "AoP5vhlTrQ4C"
      },
      "outputs": [],
      "source": [
        "import tensorflow as tf\n",
        "import numpy as np\n",
        "from tensorflow.keras.preprocessing.text import one_hot\n",
        "from tensorflow.keras.utils import pad_sequences"
      ]
    },
    {
      "cell_type": "code",
      "source": [
        "reviews = ['nice food',\n",
        "        'amazing restaurant',\n",
        "        'too good',\n",
        "        'just loved it!',\n",
        "        'will go again',\n",
        "        'horrible food',\n",
        "        'never go there',\n",
        "        'poor service',\n",
        "        'poor quality',\n",
        "        'needs improvement']\n",
        "\n",
        "sentiment = np.array([1,1,1,1,1,0,0,0,0,0])"
      ],
      "metadata": {
        "id": "W5g7ZGtWsmiW"
      },
      "execution_count": 63,
      "outputs": []
    },
    {
      "cell_type": "code",
      "source": [
        "x=[]\n",
        "vocab_size =30\n",
        "\n",
        "for i in reviews:\n",
        " x.append( one_hot(i,vocab_size))\n",
        "\n",
        "x =np.array(x)"
      ],
      "metadata": {
        "colab": {
          "base_uri": "https://localhost:8080/"
        },
        "id": "DyGY-eEluKEj",
        "outputId": "e2dbae05-d55c-49d4-e9dc-e2129fbfffe6"
      },
      "execution_count": 64,
      "outputs": [
        {
          "output_type": "stream",
          "name": "stderr",
          "text": [
            "/usr/local/lib/python3.7/dist-packages/ipykernel_launcher.py:7: VisibleDeprecationWarning: Creating an ndarray from ragged nested sequences (which is a list-or-tuple of lists-or-tuples-or ndarrays with different lengths or shapes) is deprecated. If you meant to do this, you must specify 'dtype=object' when creating the ndarray.\n",
            "  import sys\n"
          ]
        }
      ]
    },
    {
      "cell_type": "code",
      "source": [
        "max_length = 4\n",
        "x =pad_sequences(x,maxlen= max_length,padding='post')\n"
      ],
      "metadata": {
        "id": "8exjsNAiv8aW"
      },
      "execution_count": 65,
      "outputs": []
    },
    {
      "cell_type": "code",
      "source": [
        "embedd_features =4\n",
        "\n",
        "model = tf.keras.Sequential([\n",
        "    tf.keras.layers.Embedding(vocab_size,embedd_features,input_length=max_length , name ='embedding'),\n",
        "    tf.keras.layers.Flatten(),\n",
        "    tf.keras.layers.Dense(1,activation='sigmoid')\n",
        "\n",
        "])\n",
        "model.compile(\n",
        "    optimizer = 'SGD',\n",
        "    loss = 'categorical_crossentropy',\n",
        "    metrics =['accuracy']\n",
        ")\n",
        "model.fit(x,sentiment)"
      ],
      "metadata": {
        "colab": {
          "base_uri": "https://localhost:8080/"
        },
        "id": "o6LBBczcuhoM",
        "outputId": "000808c6-19c4-4d4b-b5fc-c5bf18a77e91"
      },
      "execution_count": 68,
      "outputs": [
        {
          "output_type": "stream",
          "name": "stdout",
          "text": [
            "1/1 [==============================] - 0s 434ms/step - loss: 0.0000e+00 - accuracy: 0.6000\n"
          ]
        },
        {
          "output_type": "execute_result",
          "data": {
            "text/plain": [
              "<keras.callbacks.History at 0x7f2b897de990>"
            ]
          },
          "metadata": {},
          "execution_count": 68
        }
      ]
    },
    {
      "cell_type": "code",
      "source": [
        "weights = model.get_layer('embedding').get_weights()"
      ],
      "metadata": {
        "id": "CAUF_oXd0S7j"
      },
      "execution_count": 73,
      "outputs": []
    },
    {
      "cell_type": "code",
      "source": [
        "weights[0]"
      ],
      "metadata": {
        "colab": {
          "base_uri": "https://localhost:8080/"
        },
        "id": "r3qI6zMI0j9k",
        "outputId": "e62d51a5-15a5-41d0-bb98-fdf58aa46c3e"
      },
      "execution_count": 75,
      "outputs": [
        {
          "output_type": "execute_result",
          "data": {
            "text/plain": [
              "array([[ 0.03823299,  0.00877736, -0.01102405, -0.01265186],\n",
              "       [-0.0111627 , -0.04679898,  0.00378053,  0.01902245],\n",
              "       [ 0.04961497, -0.04428593,  0.01015453, -0.04800386],\n",
              "       [-0.01622371, -0.01574218, -0.03277501,  0.00348259],\n",
              "       [ 0.02054942,  0.02145309,  0.03022352, -0.00667379],\n",
              "       [-0.00871297, -0.0317773 , -0.01236038,  0.00510733],\n",
              "       [ 0.01467245, -0.01962277, -0.04539883, -0.04467591],\n",
              "       [ 0.01625877,  0.0141269 , -0.00072861, -0.04552739],\n",
              "       [-0.01905453,  0.0437645 ,  0.03055106,  0.03790797],\n",
              "       [ 0.00434012,  0.01879321, -0.01119477, -0.00467545],\n",
              "       [-0.04179883, -0.00181819, -0.02857821, -0.04797319],\n",
              "       [-0.01476727, -0.04907862,  0.03407968,  0.04262808],\n",
              "       [-0.00680283,  0.01922376,  0.03901545,  0.0270488 ],\n",
              "       [ 0.00503637, -0.00924059,  0.01457821,  0.01687404],\n",
              "       [-0.02326335, -0.04216354,  0.02339494, -0.04662871],\n",
              "       [-0.03273144,  0.01736237, -0.03852504,  0.04311096],\n",
              "       [ 0.0077453 ,  0.02069101,  0.01057557,  0.02672407],\n",
              "       [ 0.00306984,  0.008991  , -0.02125229,  0.03426624],\n",
              "       [-0.01650571, -0.01914082,  0.01968762,  0.02694449],\n",
              "       [ 0.01388105, -0.03142762,  0.04708027,  0.00829444],\n",
              "       [ 0.02960385, -0.00072185,  0.01941688,  0.02025456],\n",
              "       [-0.04107916, -0.00015502, -0.00765837,  0.04767425],\n",
              "       [-0.04420604,  0.03701975,  0.00363998,  0.03552092],\n",
              "       [-0.02497857, -0.03733772, -0.0325967 ,  0.0148479 ],\n",
              "       [ 0.02226489, -0.01854811, -0.01832532, -0.04799504],\n",
              "       [ 0.01570841, -0.0043525 , -0.04363709, -0.00309824],\n",
              "       [ 0.04447078,  0.00265251,  0.01972189,  0.00670112],\n",
              "       [-0.02022554, -0.02006575, -0.02417312,  0.02102822],\n",
              "       [-0.00296103,  0.04200344,  0.04954029,  0.01696793],\n",
              "       [ 0.04932125,  0.00804742, -0.03528922,  0.01386623]],\n",
              "      dtype=float32)"
            ]
          },
          "metadata": {},
          "execution_count": 75
        }
      ]
    }
  ]
}